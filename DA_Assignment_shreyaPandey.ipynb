{
  "nbformat": 4,
  "nbformat_minor": 0,
  "metadata": {
    "colab": {
      "name": "DA_Assignment_shreyaPandey.ipynb",
      "provenance": [],
      "authorship_tag": "ABX9TyMn602muhOkfnQOPW4PDsx3",
      "include_colab_link": true
    },
    "kernelspec": {
      "name": "python3",
      "display_name": "Python 3"
    },
    "language_info": {
      "name": "python"
    }
  },
  "cells": [
    {
      "cell_type": "markdown",
      "metadata": {
        "id": "view-in-github",
        "colab_type": "text"
      },
      "source": [
        "<a href=\"https://colab.research.google.com/github/spshreya/datamining/blob/master/DA_Assignment_shreyaPandey.ipynb\" target=\"_parent\"><img src=\"https://colab.research.google.com/assets/colab-badge.svg\" alt=\"Open In Colab\"/></a>"
      ]
    },
    {
      "cell_type": "code",
      "metadata": {
        "colab": {
          "resources": {
            "http://localhost:8080/nbextensions/google.colab/files.js": {
              "data": "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",
              "ok": true,
              "headers": [
                [
                  "content-type",
                  "application/javascript"
                ]
              ],
              "status": 200,
              "status_text": ""
            }
          },
          "base_uri": "https://localhost:8080/",
          "height": 140
        },
        "id": "eM9FYmpJ1Kge",
        "outputId": "8a3949c2-3048-4455-da1f-b40be7f5831a"
      },
      "source": [
        "from google.colab import files\n",
        "uploaded = files.upload()"
      ],
      "execution_count": 2,
      "outputs": [
        {
          "output_type": "display_data",
          "data": {
            "text/html": [
              "\n",
              "     <input type=\"file\" id=\"files-7c67b5c2-b231-4d2f-b353-9ddaa5d72bd9\" name=\"files[]\" multiple disabled\n",
              "        style=\"border:none\" />\n",
              "     <output id=\"result-7c67b5c2-b231-4d2f-b353-9ddaa5d72bd9\">\n",
              "      Upload widget is only available when the cell has been executed in the\n",
              "      current browser session. Please rerun this cell to enable.\n",
              "      </output>\n",
              "      <script src=\"/nbextensions/google.colab/files.js\"></script> "
            ],
            "text/plain": [
              "<IPython.core.display.HTML object>"
            ]
          },
          "metadata": {}
        },
        {
          "output_type": "stream",
          "name": "stdout",
          "text": [
            "Saving VIJP_hourly.csv to VIJP_hourly.csv\n",
            "Saving VIDP_hourly.csv to VIDP_hourly.csv\n",
            "Saving VAUD_hourly.csv to VAUD_hourly.csv\n"
          ]
        }
      ]
    },
    {
      "cell_type": "code",
      "metadata": {
        "id": "2FsjGhjG2BDn"
      },
      "source": [
        "import pandas as pd"
      ],
      "execution_count": 3,
      "outputs": []
    },
    {
      "cell_type": "code",
      "metadata": {
        "colab": {
          "base_uri": "https://localhost:8080/"
        },
        "id": "FcNJFvDR4m4C",
        "outputId": "02c7002f-a854-4ee3-b511-2c7aa06a3b27"
      },
      "source": [
        "df1 = pd.read_csv('VIJP_hourly.csv')\n",
        "df2 = pd.read_csv('VIDP_hourly.csv')\n",
        "df3 = pd.read_csv('VAUD_hourly.csv')"
      ],
      "execution_count": 36,
      "outputs": [
        {
          "output_type": "stream",
          "name": "stderr",
          "text": [
            "/usr/local/lib/python3.7/dist-packages/IPython/core/interactiveshell.py:2718: DtypeWarning: Columns (3) have mixed types.Specify dtype option on import or set low_memory=False.\n",
            "  interactivity=interactivity, compiler=compiler, result=result)\n",
            "/usr/local/lib/python3.7/dist-packages/IPython/core/interactiveshell.py:2718: DtypeWarning: Columns (3,16) have mixed types.Specify dtype option on import or set low_memory=False.\n",
            "  interactivity=interactivity, compiler=compiler, result=result)\n"
          ]
        }
      ]
    },
    {
      "cell_type": "code",
      "metadata": {
        "colab": {
          "base_uri": "https://localhost:8080/",
          "height": 794
        },
        "id": "BcCMN5RC4zmK",
        "outputId": "939f8330-124c-46a2-a42c-8a5b5cac5118"
      },
      "source": [
        "df1.head()"
      ],
      "execution_count": 18,
      "outputs": [
        {
          "output_type": "execute_result",
          "data": {
            "text/html": [
              "<div>\n",
              "<style scoped>\n",
              "    .dataframe tbody tr th:only-of-type {\n",
              "        vertical-align: middle;\n",
              "    }\n",
              "\n",
              "    .dataframe tbody tr th {\n",
              "        vertical-align: top;\n",
              "    }\n",
              "\n",
              "    .dataframe thead th {\n",
              "        text-align: right;\n",
              "    }\n",
              "</style>\n",
              "<table border=\"1\" class=\"dataframe\">\n",
              "  <thead>\n",
              "    <tr style=\"text-align: right;\">\n",
              "      <th></th>\n",
              "      <th>State Code</th>\n",
              "      <th>observation time in local time (String as YYYYMMDDhhmm)</th>\n",
              "      <th>daylight status (Character - 'D' for daytime icons; 'N' for nighttime icons)</th>\n",
              "      <th>sky descriptor (Integer - see lookup)</th>\n",
              "      <th>precipitation descriptor (Integer - see lookup)</th>\n",
              "      <th>temperature descriptor (Integer - see lookup)</th>\n",
              "      <th>additional air descriptor (optional) (Integer - see lookup)</th>\n",
              "      <th>temperature (Floating Point - Celsius)</th>\n",
              "      <th>wind speed (Floating Point - knots.)</th>\n",
              "      <th>wind direction (Integer - compass degrees; 0 - 359; 0 == North)</th>\n",
              "      <th>wind gusts [optional] (Floating  Point - knots.)</th>\n",
              "      <th>humidity (Integer - percent)</th>\n",
              "      <th>dew point (Floating Point - Celsius)</th>\n",
              "      <th>comfort level (Floating Point - Celsius)</th>\n",
              "      <th>sea level pressure (Floating Point - millibars)</th>\n",
              "      <th>barometric tendency ('S' - Steady; 'F' - Falling; 'R' - Rising)</th>\n",
              "      <th>visibility (Floating Point - miles)</th>\n",
              "      <th>sky conditions (C-lear;F-ew;S-cattered;B-roken;O-vercast; X-obscured)</th>\n",
              "      <th>minimum cloud base (Floating Point - meters)</th>\n",
              "      <th>maximum cloud base (Floating Point - meters)</th>\n",
              "      <th>weather type (+FC = tornado/waterspout; FC = funnel cloud; TS = thunderstorm; GR = hail; RA = rain; DZ = drizzle; SN = snow; SG = snow grains; GS = small hail &amp;/or snow pellets; PE = ice pellets; IC = crystals; FG+ = heavy fog less than 0.25 miles vis; FG = fog; BR = mist; UP = unknown precip.; HZ = haze; FU = smoke; VA = volcanic ash; DU = widespread dust; DS = duststorm; PO = sand/dust whirls; SA = sand; SS = sandstorm; PY = spray; SQ = squall) (DR - low drifting; SH - shower; FZ - freezing; MI - shallow; PR - partial; BC - patches; BL - blowing; VC - vicinity; - LIGHT; + HEAVY; 'NO SIGN' - moderate)</th>\n",
              "      <th>hourly precip.  [optional] (Floating  Point - centimeters)</th>\n",
              "      <th>3 hour precipitation [optional] (Floating  Point - centimeters)</th>\n",
              "      <th>6 hour precipitation [optional] (Floating  Point - centimeters)</th>\n",
              "      <th>12 hour precipitation [optional] (Floating  Point - centimeters)</th>\n",
              "      <th>24 hour precipitation [optional] (Floating  Point - centimeters)</th>\n",
              "      <th>24-hr Maximum temperature [optional] (Floating Point - Celsius)</th>\n",
              "      <th>6 hour maximum temperature [optional] (Floating Point - Celsius)</th>\n",
              "      <th>24-hr Minimum temperature [optional] (Floating Point - Celsius)</th>\n",
              "      <th>6 hour minimum temperature [optional] (Floating Point - Celsius)</th>\n",
              "      <th>Snow cover [optional] (Floating  Point - centimeters)</th>\n",
              "      <th>Solar radiation [optional] (Integer - minutes)</th>\n",
              "    </tr>\n",
              "  </thead>\n",
              "  <tbody>\n",
              "    <tr>\n",
              "      <th>0</th>\n",
              "      <td>VIJP</td>\n",
              "      <td>2.016120e+11</td>\n",
              "      <td>N</td>\n",
              "      <td>21</td>\n",
              "      <td>*</td>\n",
              "      <td>6</td>\n",
              "      <td>*</td>\n",
              "      <td>14.8</td>\n",
              "      <td>7.56</td>\n",
              "      <td>90</td>\n",
              "      <td>*</td>\n",
              "      <td>100</td>\n",
              "      <td>14.8</td>\n",
              "      <td>14.71</td>\n",
              "      <td>1015.1</td>\n",
              "      <td>*</td>\n",
              "      <td>1</td>\n",
              "      <td>C</td>\n",
              "      <td>*</td>\n",
              "      <td>*</td>\n",
              "      <td>*</td>\n",
              "      <td>*</td>\n",
              "      <td>*</td>\n",
              "      <td>*</td>\n",
              "      <td>*</td>\n",
              "      <td>*</td>\n",
              "      <td>*</td>\n",
              "      <td>*</td>\n",
              "      <td>*</td>\n",
              "      <td>*</td>\n",
              "      <td>*</td>\n",
              "      <td>*</td>\n",
              "    </tr>\n",
              "    <tr>\n",
              "      <th>1</th>\n",
              "      <td>VIJP</td>\n",
              "      <td>2.016120e+11</td>\n",
              "      <td>N</td>\n",
              "      <td>21</td>\n",
              "      <td>*</td>\n",
              "      <td>6</td>\n",
              "      <td>*</td>\n",
              "      <td>15</td>\n",
              "      <td>5.4</td>\n",
              "      <td>279</td>\n",
              "      <td>*</td>\n",
              "      <td>100</td>\n",
              "      <td>15</td>\n",
              "      <td>15.34</td>\n",
              "      <td>1016</td>\n",
              "      <td>*</td>\n",
              "      <td>2</td>\n",
              "      <td>C</td>\n",
              "      <td>22</td>\n",
              "      <td>*</td>\n",
              "      <td>*</td>\n",
              "      <td>*</td>\n",
              "      <td>*</td>\n",
              "      <td>*</td>\n",
              "      <td>*</td>\n",
              "      <td>*</td>\n",
              "      <td>*</td>\n",
              "      <td>*</td>\n",
              "      <td>*</td>\n",
              "      <td>*</td>\n",
              "      <td>*</td>\n",
              "      <td>*</td>\n",
              "    </tr>\n",
              "    <tr>\n",
              "      <th>2</th>\n",
              "      <td>VIJP</td>\n",
              "      <td>2.017010e+11</td>\n",
              "      <td>N</td>\n",
              "      <td>21</td>\n",
              "      <td>*</td>\n",
              "      <td>6</td>\n",
              "      <td>*</td>\n",
              "      <td>15</td>\n",
              "      <td>1.8</td>\n",
              "      <td>279</td>\n",
              "      <td>*</td>\n",
              "      <td>94</td>\n",
              "      <td>14</td>\n",
              "      <td>15</td>\n",
              "      <td>1016</td>\n",
              "      <td>*</td>\n",
              "      <td>2</td>\n",
              "      <td>C</td>\n",
              "      <td>22</td>\n",
              "      <td>*</td>\n",
              "      <td>*</td>\n",
              "      <td>*</td>\n",
              "      <td>*</td>\n",
              "      <td>*</td>\n",
              "      <td>*</td>\n",
              "      <td>*</td>\n",
              "      <td>*</td>\n",
              "      <td>*</td>\n",
              "      <td>*</td>\n",
              "      <td>*</td>\n",
              "      <td>*</td>\n",
              "      <td>*</td>\n",
              "    </tr>\n",
              "    <tr>\n",
              "      <th>3</th>\n",
              "      <td>VIJP</td>\n",
              "      <td>2.017010e+11</td>\n",
              "      <td>N</td>\n",
              "      <td>21</td>\n",
              "      <td>*</td>\n",
              "      <td>6</td>\n",
              "      <td>*</td>\n",
              "      <td>15</td>\n",
              "      <td>1.8</td>\n",
              "      <td>279</td>\n",
              "      <td>*</td>\n",
              "      <td>94</td>\n",
              "      <td>14</td>\n",
              "      <td>15</td>\n",
              "      <td>1015</td>\n",
              "      <td>*</td>\n",
              "      <td>2</td>\n",
              "      <td>C</td>\n",
              "      <td>22</td>\n",
              "      <td>*</td>\n",
              "      <td>*</td>\n",
              "      <td>*</td>\n",
              "      <td>*</td>\n",
              "      <td>*</td>\n",
              "      <td>*</td>\n",
              "      <td>*</td>\n",
              "      <td>*</td>\n",
              "      <td>*</td>\n",
              "      <td>*</td>\n",
              "      <td>*</td>\n",
              "      <td>*</td>\n",
              "      <td>*</td>\n",
              "    </tr>\n",
              "    <tr>\n",
              "      <th>4</th>\n",
              "      <td>VIJP</td>\n",
              "      <td>2.017010e+11</td>\n",
              "      <td>N</td>\n",
              "      <td>21</td>\n",
              "      <td>*</td>\n",
              "      <td>6</td>\n",
              "      <td>*</td>\n",
              "      <td>15</td>\n",
              "      <td>3.6</td>\n",
              "      <td>279</td>\n",
              "      <td>*</td>\n",
              "      <td>94</td>\n",
              "      <td>14</td>\n",
              "      <td>15</td>\n",
              "      <td>1015</td>\n",
              "      <td>*</td>\n",
              "      <td>2</td>\n",
              "      <td>C</td>\n",
              "      <td>22</td>\n",
              "      <td>*</td>\n",
              "      <td>*</td>\n",
              "      <td>*</td>\n",
              "      <td>*</td>\n",
              "      <td>*</td>\n",
              "      <td>*</td>\n",
              "      <td>*</td>\n",
              "      <td>*</td>\n",
              "      <td>*</td>\n",
              "      <td>*</td>\n",
              "      <td>*</td>\n",
              "      <td>*</td>\n",
              "      <td>*</td>\n",
              "    </tr>\n",
              "  </tbody>\n",
              "</table>\n",
              "</div>"
            ],
            "text/plain": [
              "  State Code   ...  Solar radiation [optional] (Integer - minutes)\n",
              "0        VIJP  ...                                               *\n",
              "1        VIJP  ...                                               *\n",
              "2        VIJP  ...                                               *\n",
              "3        VIJP  ...                                               *\n",
              "4        VIJP  ...                                               *\n",
              "\n",
              "[5 rows x 32 columns]"
            ]
          },
          "metadata": {},
          "execution_count": 18
        }
      ]
    },
    {
      "cell_type": "code",
      "metadata": {
        "colab": {
          "base_uri": "https://localhost:8080/"
        },
        "id": "kIbk3Ht15F2u",
        "outputId": "f6d66478-3290-4c10-f189-a5c63b4a37f4"
      },
      "source": [
        "df1.info()"
      ],
      "execution_count": 19,
      "outputs": [
        {
          "output_type": "stream",
          "name": "stdout",
          "text": [
            "<class 'pandas.core.frame.DataFrame'>\n",
            "RangeIndex: 87740 entries, 0 to 87739\n",
            "Data columns (total 32 columns):\n",
            " #   Column                                                                                                                                                                                                                                                                                                                                                                                                                                                                                                                                                                                                                             Non-Null Count  Dtype  \n",
            "---  ------                                                                                                                                                                                                                                                                                                                                                                                                                                                                                                                                                                                                                             --------------  -----  \n",
            " 0   State Code                                                                                                                                                                                                                                                                                                                                                                                                                                                                                                                                                                                                                         87740 non-null  object \n",
            " 1   observation time in local time (String as YYYYMMDDhhmm)                                                                                                                                                                                                                                                                                                                                                                                                                                                                                                                                                                            87740 non-null  float64\n",
            " 2   daylight status (Character - 'D' for daytime icons; 'N' for nighttime icons)                                                                                                                                                                                                                                                                                                                                                                                                                                                                                                                                                       87740 non-null  object \n",
            " 3   sky descriptor (Integer - see lookup)                                                                                                                                                                                                                                                                                                                                                                                                                                                                                                                                                                                              87740 non-null  object \n",
            " 4   precipitation descriptor (Integer - see lookup)                                                                                                                                                                                                                                                                                                                                                                                                                                                                                                                                                                                    87740 non-null  object \n",
            " 5   temperature descriptor (Integer - see lookup)                                                                                                                                                                                                                                                                                                                                                                                                                                                                                                                                                                                      87740 non-null  object \n",
            " 6   additional air descriptor (optional) (Integer - see lookup)                                                                                                                                                                                                                                                                                                                                                                                                                                                                                                                                                                        87740 non-null  object \n",
            " 7   temperature (Floating Point - Celsius)                                                                                                                                                                                                                                                                                                                                                                                                                                                                                                                                                                                             87740 non-null  object \n",
            " 8   wind speed (Floating Point - knots.)                                                                                                                                                                                                                                                                                                                                                                                                                                                                                                                                                                                               87740 non-null  object \n",
            " 9   wind direction (Integer - compass degrees; 0 - 359; 0 == North)                                                                                                                                                                                                                                                                                                                                                                                                                                                                                                                                                                    87740 non-null  int64  \n",
            " 10  wind gusts [optional] (Floating  Point - knots.)                                                                                                                                                                                                                                                                                                                                                                                                                                                                                                                                                                                   87740 non-null  object \n",
            " 11  humidity (Integer - percent)                                                                                                                                                                                                                                                                                                                                                                                                                                                                                                                                                                                                       87740 non-null  object \n",
            " 12  dew point (Floating Point - Celsius)                                                                                                                                                                                                                                                                                                                                                                                                                                                                                                                                                                                               87740 non-null  object \n",
            " 13  comfort level (Floating Point - Celsius)                                                                                                                                                                                                                                                                                                                                                                                                                                                                                                                                                                                           87740 non-null  object \n",
            " 14  sea level pressure (Floating Point - millibars)                                                                                                                                                                                                                                                                                                                                                                                                                                                                                                                                                                                    87740 non-null  object \n",
            " 15  barometric tendency ('S' - Steady; 'F' - Falling; 'R' - Rising)                                                                                                                                                                                                                                                                                                                                                                                                                                                                                                                                                                    87740 non-null  object \n",
            " 16  visibility (Floating Point - miles)                                                                                                                                                                                                                                                                                                                                                                                                                                                                                                                                                                                                87740 non-null  object \n",
            " 17  sky conditions (C-lear;F-ew;S-cattered;B-roken;O-vercast; X-obscured)                                                                                                                                                                                                                                                                                                                                                                                                                                                                                                                                                              87740 non-null  object \n",
            " 18  minimum cloud base (Floating Point - meters)                                                                                                                                                                                                                                                                                                                                                                                                                                                                                                                                                                                       87740 non-null  object \n",
            " 19  maximum cloud base (Floating Point - meters)                                                                                                                                                                                                                                                                                                                                                                                                                                                                                                                                                                                       87740 non-null  object \n",
            " 20  weather type (+FC = tornado/waterspout; FC = funnel cloud; TS = thunderstorm; GR = hail; RA = rain; DZ = drizzle; SN = snow; SG = snow grains; GS = small hail &/or snow pellets; PE = ice pellets; IC = crystals; FG+ = heavy fog less than 0.25 miles vis; FG = fog; BR = mist; UP = unknown precip.; HZ = haze; FU = smoke; VA = volcanic ash; DU = widespread dust; DS = duststorm; PO = sand/dust whirls; SA = sand; SS = sandstorm; PY = spray; SQ = squall) (DR - low drifting; SH - shower; FZ - freezing; MI - shallow; PR - partial; BC - patches; BL - blowing; VC - vicinity; - LIGHT; + HEAVY; 'NO SIGN' - moderate)  87740 non-null  object \n",
            " 21  hourly precip.  [optional] (Floating  Point - centimeters)                                                                                                                                                                                                                                                                                                                                                                                                                                                                                                                                                                         87740 non-null  object \n",
            " 22  3 hour precipitation [optional] (Floating  Point - centimeters)                                                                                                                                                                                                                                                                                                                                                                                                                                                                                                                                                                    87740 non-null  object \n",
            " 23  6 hour precipitation [optional] (Floating  Point - centimeters)                                                                                                                                                                                                                                                                                                                                                                                                                                                                                                                                                                    87740 non-null  object \n",
            " 24  12 hour precipitation [optional] (Floating  Point - centimeters)                                                                                                                                                                                                                                                                                                                                                                                                                                                                                                                                                                   87740 non-null  object \n",
            " 25  24 hour precipitation [optional] (Floating  Point - centimeters)                                                                                                                                                                                                                                                                                                                                                                                                                                                                                                                                                                   87740 non-null  object \n",
            " 26  24-hr Maximum temperature [optional] (Floating Point - Celsius)                                                                                                                                                                                                                                                                                                                                                                                                                                                                                                                                                                    87740 non-null  object \n",
            " 27  6 hour maximum temperature [optional] (Floating Point - Celsius)                                                                                                                                                                                                                                                                                                                                                                                                                                                                                                                                                                   87740 non-null  object \n",
            " 28  24-hr Minimum temperature [optional] (Floating Point - Celsius)                                                                                                                                                                                                                                                                                                                                                                                                                                                                                                                                                                    87740 non-null  object \n",
            " 29  6 hour minimum temperature [optional] (Floating Point - Celsius)                                                                                                                                                                                                                                                                                                                                                                                                                                                                                                                                                                   87740 non-null  object \n",
            " 30  Snow cover [optional] (Floating  Point - centimeters)                                                                                                                                                                                                                                                                                                                                                                                                                                                                                                                                                                              87740 non-null  object \n",
            " 31  Solar radiation [optional] (Integer - minutes)                                                                                                                                                                                                                                                                                                                                                                                                                                                                                                                                                                                     87740 non-null  object \n",
            "dtypes: float64(1), int64(1), object(30)\n",
            "memory usage: 21.4+ MB\n"
          ]
        }
      ]
    },
    {
      "cell_type": "code",
      "metadata": {
        "colab": {
          "base_uri": "https://localhost:8080/"
        },
        "id": "4456hjEZ5TY6",
        "outputId": "37137380-111b-4f34-c230-fd174aadae7e"
      },
      "source": [
        "df2.rename(columns={\"State Location\":\"State Code \"}, inplace= True)\n",
        "df2.info()"
      ],
      "execution_count": 37,
      "outputs": [
        {
          "output_type": "stream",
          "name": "stdout",
          "text": [
            "<class 'pandas.core.frame.DataFrame'>\n",
            "RangeIndex: 91161 entries, 0 to 91160\n",
            "Data columns (total 32 columns):\n",
            " #   Column                                                                                                                                                                                                                                                                                                                                                                                                                                                                                                                                                                                                                             Non-Null Count  Dtype  \n",
            "---  ------                                                                                                                                                                                                                                                                                                                                                                                                                                                                                                                                                                                                                             --------------  -----  \n",
            " 0   State Code                                                                                                                                                                                                                                                                                                                                                                                                                                                                                                                                                                                                                         91161 non-null  object \n",
            " 1   observation time in local time (String as YYYYMMDDhhmm)                                                                                                                                                                                                                                                                                                                                                                                                                                                                                                                                                                            91161 non-null  float64\n",
            " 2   daylight status (Character - 'D' for daytime icons; 'N' for nighttime icons)                                                                                                                                                                                                                                                                                                                                                                                                                                                                                                                                                       91161 non-null  object \n",
            " 3   sky descriptor (Integer - see lookup)                                                                                                                                                                                                                                                                                                                                                                                                                                                                                                                                                                                              91161 non-null  object \n",
            " 4   precipitation descriptor (Integer - see lookup)                                                                                                                                                                                                                                                                                                                                                                                                                                                                                                                                                                                    91161 non-null  object \n",
            " 5   temperature descriptor (Integer - see lookup)                                                                                                                                                                                                                                                                                                                                                                                                                                                                                                                                                                                      91161 non-null  object \n",
            " 6   additional air descriptor (optional) (Integer - see lookup)                                                                                                                                                                                                                                                                                                                                                                                                                                                                                                                                                                        91161 non-null  object \n",
            " 7   temperature (Floating Point - Celsius)                                                                                                                                                                                                                                                                                                                                                                                                                                                                                                                                                                                             91161 non-null  object \n",
            " 8   wind speed (Floating Point - knots.)                                                                                                                                                                                                                                                                                                                                                                                                                                                                                                                                                                                               91161 non-null  object \n",
            " 9   wind direction (Integer - compass degrees; 0 - 359; 0 == North)                                                                                                                                                                                                                                                                                                                                                                                                                                                                                                                                                                    91161 non-null  int64  \n",
            " 10  wind gusts [optional] (Floating  Point - knots.)                                                                                                                                                                                                                                                                                                                                                                                                                                                                                                                                                                                   91161 non-null  object \n",
            " 11  humidity (Integer - percent)                                                                                                                                                                                                                                                                                                                                                                                                                                                                                                                                                                                                       91161 non-null  object \n",
            " 12  dew point (Floating Point - Celsius)                                                                                                                                                                                                                                                                                                                                                                                                                                                                                                                                                                                               91161 non-null  object \n",
            " 13  comfort level (Floating Point - Celsius)                                                                                                                                                                                                                                                                                                                                                                                                                                                                                                                                                                                           91161 non-null  object \n",
            " 14  sea level pressure (Floating Point - millibars)                                                                                                                                                                                                                                                                                                                                                                                                                                                                                                                                                                                    91161 non-null  object \n",
            " 15  barometric tendency ('S' - Steady; 'F' - Falling; 'R' - Rising)                                                                                                                                                                                                                                                                                                                                                                                                                                                                                                                                                                    91161 non-null  object \n",
            " 16  visibility (Floating Point - miles)                                                                                                                                                                                                                                                                                                                                                                                                                                                                                                                                                                                                91161 non-null  object \n",
            " 17  sky conditions (C-lear;F-ew;S-cattered;B-roken;O-vercast; X-obscured)                                                                                                                                                                                                                                                                                                                                                                                                                                                                                                                                                              91161 non-null  object \n",
            " 18  minimum cloud base (Floating Point - meters)                                                                                                                                                                                                                                                                                                                                                                                                                                                                                                                                                                                       91161 non-null  object \n",
            " 19  maximum cloud base (Floating Point - meters)                                                                                                                                                                                                                                                                                                                                                                                                                                                                                                                                                                                       91161 non-null  object \n",
            " 20  weather type (+FC = tornado/waterspout; FC = funnel cloud; TS = thunderstorm; GR = hail; RA = rain; DZ = drizzle; SN = snow; SG = snow grains; GS = small hail &/or snow pellets; PE = ice pellets; IC = crystals; FG+ = heavy fog less than 0.25 miles vis; FG = fog; BR = mist; UP = unknown precip.; HZ = haze; FU = smoke; VA = volcanic ash; DU = widespread dust; DS = duststorm; PO = sand/dust whirls; SA = sand; SS = sandstorm; PY = spray; SQ = squall) (DR - low drifting; SH - shower; FZ - freezing; MI - shallow; PR - partial; BC - patches; BL - blowing; VC - vicinity; - LIGHT; + HEAVY; 'NO SIGN' - moderate)  91161 non-null  object \n",
            " 21  hourly precip.  [optional] (Floating  Point - centimeters)                                                                                                                                                                                                                                                                                                                                                                                                                                                                                                                                                                         91161 non-null  object \n",
            " 22  3 hour precipitation [optional] (Floating  Point - centimeters)                                                                                                                                                                                                                                                                                                                                                                                                                                                                                                                                                                    91161 non-null  object \n",
            " 23  6 hour precipitation [optional] (Floating  Point - centimeters)                                                                                                                                                                                                                                                                                                                                                                                                                                                                                                                                                                    91161 non-null  object \n",
            " 24  12 hour precipitation [optional] (Floating  Point - centimeters)                                                                                                                                                                                                                                                                                                                                                                                                                                                                                                                                                                   91161 non-null  object \n",
            " 25  24 hour precipitation [optional] (Floating  Point - centimeters)                                                                                                                                                                                                                                                                                                                                                                                                                                                                                                                                                                   91161 non-null  object \n",
            " 26  24-hr Maximum temperature [optional] (Floating Point - Celsius)                                                                                                                                                                                                                                                                                                                                                                                                                                                                                                                                                                    91161 non-null  object \n",
            " 27  6 hour maximum temperature [optional] (Floating Point - Celsius)                                                                                                                                                                                                                                                                                                                                                                                                                                                                                                                                                                   91161 non-null  object \n",
            " 28  24-hr Minimum temperature [optional] (Floating Point - Celsius)                                                                                                                                                                                                                                                                                                                                                                                                                                                                                                                                                                    91161 non-null  object \n",
            " 29  6 hour minimum temperature [optional] (Floating Point - Celsius)                                                                                                                                                                                                                                                                                                                                                                                                                                                                                                                                                                   91161 non-null  object \n",
            " 30  Snow cover [optional] (Floating  Point - centimeters)                                                                                                                                                                                                                                                                                                                                                                                                                                                                                                                                                                              91161 non-null  object \n",
            " 31  Solar radiation [optional] (Integer - minutes)                                                                                                                                                                                                                                                                                                                                                                                                                                                                                                                                                                                     91161 non-null  object \n",
            "dtypes: float64(1), int64(1), object(30)\n",
            "memory usage: 22.3+ MB\n"
          ]
        }
      ]
    },
    {
      "cell_type": "code",
      "metadata": {
        "colab": {
          "base_uri": "https://localhost:8080/"
        },
        "id": "0jCUED8F5XjB",
        "outputId": "642c9844-4861-4d34-8e64-d5915719e5eb"
      },
      "source": [
        "df3.info()"
      ],
      "execution_count": 21,
      "outputs": [
        {
          "output_type": "stream",
          "name": "stdout",
          "text": [
            "<class 'pandas.core.frame.DataFrame'>\n",
            "RangeIndex: 41619 entries, 0 to 41618\n",
            "Data columns (total 32 columns):\n",
            " #   Column                                                                                                                                                                                                                                                                                                                                                                                                                                                                                                                                                                                                                             Non-Null Count  Dtype  \n",
            "---  ------                                                                                                                                                                                                                                                                                                                                                                                                                                                                                                                                                                                                                             --------------  -----  \n",
            " 0   State Code                                                                                                                                                                                                                                                                                                                                                                                                                                                                                                                                                                                                                         41619 non-null  object \n",
            " 1   observation time in local time (String as YYYYMMDDhhmm)                                                                                                                                                                                                                                                                                                                                                                                                                                                                                                                                                                            41619 non-null  float64\n",
            " 2   daylight status (Character - 'D' for daytime icons; 'N' for nighttime icons)                                                                                                                                                                                                                                                                                                                                                                                                                                                                                                                                                       41619 non-null  object \n",
            " 3   sky descriptor (Integer - see lookup)                                                                                                                                                                                                                                                                                                                                                                                                                                                                                                                                                                                              41619 non-null  object \n",
            " 4   precipitation descriptor (Integer - see lookup)                                                                                                                                                                                                                                                                                                                                                                                                                                                                                                                                                                                    41619 non-null  object \n",
            " 5   temperature descriptor (Integer - see lookup)                                                                                                                                                                                                                                                                                                                                                                                                                                                                                                                                                                                      41619 non-null  object \n",
            " 6   additional air descriptor (optional) (Integer - see lookup)                                                                                                                                                                                                                                                                                                                                                                                                                                                                                                                                                                        41619 non-null  object \n",
            " 7   temperature (Floating Point - Celsius)                                                                                                                                                                                                                                                                                                                                                                                                                                                                                                                                                                                             41619 non-null  object \n",
            " 8   wind speed (Floating Point - knots.)                                                                                                                                                                                                                                                                                                                                                                                                                                                                                                                                                                                               41619 non-null  object \n",
            " 9   wind direction (Integer - compass degrees; 0 - 359; 0 == North)                                                                                                                                                                                                                                                                                                                                                                                                                                                                                                                                                                    41619 non-null  int64  \n",
            " 10  wind gusts [optional] (Floating  Point - knots.)                                                                                                                                                                                                                                                                                                                                                                                                                                                                                                                                                                                   41619 non-null  object \n",
            " 11  humidity (Integer - percent)                                                                                                                                                                                                                                                                                                                                                                                                                                                                                                                                                                                                       41619 non-null  object \n",
            " 12  dew point (Floating Point - Celsius)                                                                                                                                                                                                                                                                                                                                                                                                                                                                                                                                                                                               41619 non-null  object \n",
            " 13  comfort level (Floating Point - Celsius)                                                                                                                                                                                                                                                                                                                                                                                                                                                                                                                                                                                           41619 non-null  object \n",
            " 14  sea level pressure (Floating Point - millibars)                                                                                                                                                                                                                                                                                                                                                                                                                                                                                                                                                                                    41619 non-null  object \n",
            " 15  barometric tendency ('S' - Steady; 'F' - Falling; 'R' - Rising)                                                                                                                                                                                                                                                                                                                                                                                                                                                                                                                                                                    41619 non-null  object \n",
            " 16  visibility (Floating Point - miles)                                                                                                                                                                                                                                                                                                                                                                                                                                                                                                                                                                                                41619 non-null  object \n",
            " 17  sky conditions (C-lear;F-ew;S-cattered;B-roken;O-vercast; X-obscured)                                                                                                                                                                                                                                                                                                                                                                                                                                                                                                                                                              41619 non-null  object \n",
            " 18  minimum cloud base (Floating Point - meters)                                                                                                                                                                                                                                                                                                                                                                                                                                                                                                                                                                                       41619 non-null  object \n",
            " 19  maximum cloud base (Floating Point - meters)                                                                                                                                                                                                                                                                                                                                                                                                                                                                                                                                                                                       41619 non-null  object \n",
            " 20  weather type (+FC = tornado/waterspout; FC = funnel cloud; TS = thunderstorm; GR = hail; RA = rain; DZ = drizzle; SN = snow; SG = snow grains; GS = small hail &/or snow pellets; PE = ice pellets; IC = crystals; FG+ = heavy fog less than 0.25 miles vis; FG = fog; BR = mist; UP = unknown precip.; HZ = haze; FU = smoke; VA = volcanic ash; DU = widespread dust; DS = duststorm; PO = sand/dust whirls; SA = sand; SS = sandstorm; PY = spray; SQ = squall) (DR - low drifting; SH - shower; FZ - freezing; MI - shallow; PR - partial; BC - patches; BL - blowing; VC - vicinity; - LIGHT; + HEAVY; 'NO SIGN' - moderate)  41619 non-null  object \n",
            " 21  hourly precip.  [optional] (Floating  Point - centimeters)                                                                                                                                                                                                                                                                                                                                                                                                                                                                                                                                                                         41619 non-null  object \n",
            " 22  3 hour precipitation [optional] (Floating  Point - centimeters)                                                                                                                                                                                                                                                                                                                                                                                                                                                                                                                                                                    41619 non-null  object \n",
            " 23  6 hour precipitation [optional] (Floating  Point - centimeters)                                                                                                                                                                                                                                                                                                                                                                                                                                                                                                                                                                    41619 non-null  object \n",
            " 24  12 hour precipitation [optional] (Floating  Point - centimeters)                                                                                                                                                                                                                                                                                                                                                                                                                                                                                                                                                                   41619 non-null  object \n",
            " 25  24 hour precipitation [optional] (Floating  Point - centimeters)                                                                                                                                                                                                                                                                                                                                                                                                                                                                                                                                                                   41619 non-null  object \n",
            " 26  24-hr Maximum temperature [optional] (Floating Point - Celsius)                                                                                                                                                                                                                                                                                                                                                                                                                                                                                                                                                                    41619 non-null  object \n",
            " 27  6 hour maximum temperature [optional] (Floating Point - Celsius)                                                                                                                                                                                                                                                                                                                                                                                                                                                                                                                                                                   41619 non-null  object \n",
            " 28  24-hr Minimum temperature [optional] (Floating Point - Celsius)                                                                                                                                                                                                                                                                                                                                                                                                                                                                                                                                                                    41619 non-null  object \n",
            " 29  6 hour minimum temperature [optional] (Floating Point - Celsius)                                                                                                                                                                                                                                                                                                                                                                                                                                                                                                                                                                   41619 non-null  object \n",
            " 30  Snow cover [optional] (Floating  Point - centimeters)                                                                                                                                                                                                                                                                                                                                                                                                                                                                                                                                                                              41619 non-null  object \n",
            " 31  Solar radiation [optional] (Integer - minutes)                                                                                                                                                                                                                                                                                                                                                                                                                                                                                                                                                                                     41619 non-null  object \n",
            "dtypes: float64(1), int64(1), object(30)\n",
            "memory usage: 10.2+ MB\n"
          ]
        }
      ]
    },
    {
      "cell_type": "code",
      "metadata": {
        "colab": {
          "base_uri": "https://localhost:8080/"
        },
        "id": "e3SPsTid5Z7u",
        "outputId": "13fb283f-0957-4a5b-f7a4-166bd9c22df2"
      },
      "source": [
        "dfs = [df1, df2, df3]\n",
        "df = pd.concat(dfs)\n",
        "df.info()"
      ],
      "execution_count": 38,
      "outputs": [
        {
          "output_type": "stream",
          "name": "stdout",
          "text": [
            "<class 'pandas.core.frame.DataFrame'>\n",
            "Int64Index: 220520 entries, 0 to 41618\n",
            "Data columns (total 32 columns):\n",
            " #   Column                                                                                                                                                                                                                                                                                                                                                                                                                                                                                                                                                                                                                             Non-Null Count   Dtype  \n",
            "---  ------                                                                                                                                                                                                                                                                                                                                                                                                                                                                                                                                                                                                                             --------------   -----  \n",
            " 0   State Code                                                                                                                                                                                                                                                                                                                                                                                                                                                                                                                                                                                                                         220520 non-null  object \n",
            " 1   observation time in local time (String as YYYYMMDDhhmm)                                                                                                                                                                                                                                                                                                                                                                                                                                                                                                                                                                            220520 non-null  float64\n",
            " 2   daylight status (Character - 'D' for daytime icons; 'N' for nighttime icons)                                                                                                                                                                                                                                                                                                                                                                                                                                                                                                                                                       220520 non-null  object \n",
            " 3   sky descriptor (Integer - see lookup)                                                                                                                                                                                                                                                                                                                                                                                                                                                                                                                                                                                              220520 non-null  object \n",
            " 4   precipitation descriptor (Integer - see lookup)                                                                                                                                                                                                                                                                                                                                                                                                                                                                                                                                                                                    220520 non-null  object \n",
            " 5   temperature descriptor (Integer - see lookup)                                                                                                                                                                                                                                                                                                                                                                                                                                                                                                                                                                                      220520 non-null  object \n",
            " 6   additional air descriptor (optional) (Integer - see lookup)                                                                                                                                                                                                                                                                                                                                                                                                                                                                                                                                                                        220520 non-null  object \n",
            " 7   temperature (Floating Point - Celsius)                                                                                                                                                                                                                                                                                                                                                                                                                                                                                                                                                                                             220520 non-null  object \n",
            " 8   wind speed (Floating Point - knots.)                                                                                                                                                                                                                                                                                                                                                                                                                                                                                                                                                                                               220520 non-null  object \n",
            " 9   wind direction (Integer - compass degrees; 0 - 359; 0 == North)                                                                                                                                                                                                                                                                                                                                                                                                                                                                                                                                                                    220520 non-null  int64  \n",
            " 10  wind gusts [optional] (Floating  Point - knots.)                                                                                                                                                                                                                                                                                                                                                                                                                                                                                                                                                                                   220520 non-null  object \n",
            " 11  humidity (Integer - percent)                                                                                                                                                                                                                                                                                                                                                                                                                                                                                                                                                                                                       220520 non-null  object \n",
            " 12  dew point (Floating Point - Celsius)                                                                                                                                                                                                                                                                                                                                                                                                                                                                                                                                                                                               220520 non-null  object \n",
            " 13  comfort level (Floating Point - Celsius)                                                                                                                                                                                                                                                                                                                                                                                                                                                                                                                                                                                           220520 non-null  object \n",
            " 14  sea level pressure (Floating Point - millibars)                                                                                                                                                                                                                                                                                                                                                                                                                                                                                                                                                                                    220520 non-null  object \n",
            " 15  barometric tendency ('S' - Steady; 'F' - Falling; 'R' - Rising)                                                                                                                                                                                                                                                                                                                                                                                                                                                                                                                                                                    220520 non-null  object \n",
            " 16  visibility (Floating Point - miles)                                                                                                                                                                                                                                                                                                                                                                                                                                                                                                                                                                                                220520 non-null  object \n",
            " 17  sky conditions (C-lear;F-ew;S-cattered;B-roken;O-vercast; X-obscured)                                                                                                                                                                                                                                                                                                                                                                                                                                                                                                                                                              220520 non-null  object \n",
            " 18  minimum cloud base (Floating Point - meters)                                                                                                                                                                                                                                                                                                                                                                                                                                                                                                                                                                                       220520 non-null  object \n",
            " 19  maximum cloud base (Floating Point - meters)                                                                                                                                                                                                                                                                                                                                                                                                                                                                                                                                                                                       220520 non-null  object \n",
            " 20  weather type (+FC = tornado/waterspout; FC = funnel cloud; TS = thunderstorm; GR = hail; RA = rain; DZ = drizzle; SN = snow; SG = snow grains; GS = small hail &/or snow pellets; PE = ice pellets; IC = crystals; FG+ = heavy fog less than 0.25 miles vis; FG = fog; BR = mist; UP = unknown precip.; HZ = haze; FU = smoke; VA = volcanic ash; DU = widespread dust; DS = duststorm; PO = sand/dust whirls; SA = sand; SS = sandstorm; PY = spray; SQ = squall) (DR - low drifting; SH - shower; FZ - freezing; MI - shallow; PR - partial; BC - patches; BL - blowing; VC - vicinity; - LIGHT; + HEAVY; 'NO SIGN' - moderate)  220520 non-null  object \n",
            " 21  hourly precip.  [optional] (Floating  Point - centimeters)                                                                                                                                                                                                                                                                                                                                                                                                                                                                                                                                                                         220520 non-null  object \n",
            " 22  3 hour precipitation [optional] (Floating  Point - centimeters)                                                                                                                                                                                                                                                                                                                                                                                                                                                                                                                                                                    220520 non-null  object \n",
            " 23  6 hour precipitation [optional] (Floating  Point - centimeters)                                                                                                                                                                                                                                                                                                                                                                                                                                                                                                                                                                    220520 non-null  object \n",
            " 24  12 hour precipitation [optional] (Floating  Point - centimeters)                                                                                                                                                                                                                                                                                                                                                                                                                                                                                                                                                                   220520 non-null  object \n",
            " 25  24 hour precipitation [optional] (Floating  Point - centimeters)                                                                                                                                                                                                                                                                                                                                                                                                                                                                                                                                                                   220520 non-null  object \n",
            " 26  24-hr Maximum temperature [optional] (Floating Point - Celsius)                                                                                                                                                                                                                                                                                                                                                                                                                                                                                                                                                                    220520 non-null  object \n",
            " 27  6 hour maximum temperature [optional] (Floating Point - Celsius)                                                                                                                                                                                                                                                                                                                                                                                                                                                                                                                                                                   220520 non-null  object \n",
            " 28  24-hr Minimum temperature [optional] (Floating Point - Celsius)                                                                                                                                                                                                                                                                                                                                                                                                                                                                                                                                                                    220520 non-null  object \n",
            " 29  6 hour minimum temperature [optional] (Floating Point - Celsius)                                                                                                                                                                                                                                                                                                                                                                                                                                                                                                                                                                   220520 non-null  object \n",
            " 30  Snow cover [optional] (Floating  Point - centimeters)                                                                                                                                                                                                                                                                                                                                                                                                                                                                                                                                                                              220520 non-null  object \n",
            " 31  Solar radiation [optional] (Integer - minutes)                                                                                                                                                                                                                                                                                                                                                                                                                                                                                                                                                                                     220520 non-null  object \n",
            "dtypes: float64(1), int64(1), object(30)\n",
            "memory usage: 55.5+ MB\n"
          ]
        }
      ]
    },
    {
      "cell_type": "code",
      "metadata": {
        "colab": {
          "base_uri": "https://localhost:8080/"
        },
        "id": "InUUTUx96PVi",
        "outputId": "93133426-77f0-4343-e21d-d561cf846fef"
      },
      "source": [
        "pd.unique(df['State Code '])"
      ],
      "execution_count": 39,
      "outputs": [
        {
          "output_type": "execute_result",
          "data": {
            "text/plain": [
              "array(['VIJP', 'VIDP', 'VAUD'], dtype=object)"
            ]
          },
          "metadata": {},
          "execution_count": 39
        }
      ]
    },
    {
      "cell_type": "code",
      "metadata": {
        "id": "qKF_HJi660k9"
      },
      "source": [
        ""
      ],
      "execution_count": null,
      "outputs": []
    }
  ]
}