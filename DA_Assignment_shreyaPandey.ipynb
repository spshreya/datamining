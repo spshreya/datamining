{
  "nbformat": 4,
  "nbformat_minor": 0,
  "metadata": {
    "colab": {
      "name": "DA_Assignment_shreyaPandey.ipynb",
      "provenance": [],
      "authorship_tag": "ABX9TyNawIXWTMeqM35xQSih8vR1",
      "include_colab_link": true
    },
    "kernelspec": {
      "name": "python3",
      "display_name": "Python 3"
    },
    "language_info": {
      "name": "python"
    }
  },
  "cells": [
    {
      "cell_type": "markdown",
      "metadata": {
        "id": "view-in-github",
        "colab_type": "text"
      },
      "source": [
        "<a href=\"https://colab.research.google.com/github/spshreya/datamining/blob/master/DA_Assignment_shreyaPandey.ipynb\" target=\"_parent\"><img src=\"https://colab.research.google.com/assets/colab-badge.svg\" alt=\"Open In Colab\"/></a>"
      ]
    },
    {
      "cell_type": "code",
      "metadata": {
        "colab": {
          "resources": {
            "http://localhost:8080/nbextensions/google.colab/files.js": {
              "data": "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",
              "ok": true,
              "headers": [
                [
                  "content-type",
                  "application/javascript"
                ]
              ],
              "status": 200,
              "status_text": ""
            }
          },
          "base_uri": "https://localhost:8080/",
          "height": 143
        },
        "id": "eM9FYmpJ1Kge",
        "outputId": "8bf54d78-6332-4689-b528-e3991c59eebe"
      },
      "source": [
        "from google.colab import files\n",
        "uploaded = files.upload()"
      ],
      "execution_count": 1,
      "outputs": [
        {
          "output_type": "display_data",
          "data": {
            "text/html": [
              "\n",
              "     <input type=\"file\" id=\"files-bbfcc0d0-b479-4ca8-b5af-5f247ebca653\" name=\"files[]\" multiple disabled\n",
              "        style=\"border:none\" />\n",
              "     <output id=\"result-bbfcc0d0-b479-4ca8-b5af-5f247ebca653\">\n",
              "      Upload widget is only available when the cell has been executed in the\n",
              "      current browser session. Please rerun this cell to enable.\n",
              "      </output>\n",
              "      <script src=\"/nbextensions/google.colab/files.js\"></script> "
            ],
            "text/plain": [
              "<IPython.core.display.HTML object>"
            ]
          },
          "metadata": {}
        },
        {
          "output_type": "stream",
          "name": "stdout",
          "text": [
            "Saving VIJP_hourly.csv to VIJP_hourly.csv\n",
            "Saving VIDP_hourly.csv to VIDP_hourly.csv\n",
            "Saving VAUD_hourly.csv to VAUD_hourly.csv\n"
          ]
        }
      ]
    },
    {
      "cell_type": "code",
      "metadata": {
        "id": "2FsjGhjG2BDn"
      },
      "source": [
        "import pandas as pd"
      ],
      "execution_count": 29,
      "outputs": []
    },
    {
      "cell_type": "code",
      "metadata": {
        "colab": {
          "base_uri": "https://localhost:8080/"
        },
        "id": "FcNJFvDR4m4C",
        "outputId": "a56ddae1-4a01-4c69-d23b-e399de07ab7a"
      },
      "source": [
        "df1 = pd.read_csv('VIJP_hourly.csv')\n",
        "df2 = pd.read_csv('VIDP_hourly.csv')\n",
        "df3 = pd.read_csv('VAUD_hourly.csv')"
      ],
      "execution_count": 30,
      "outputs": [
        {
          "output_type": "stream",
          "name": "stderr",
          "text": [
            "/usr/local/lib/python3.7/dist-packages/IPython/core/interactiveshell.py:2718: DtypeWarning: Columns (3) have mixed types.Specify dtype option on import or set low_memory=False.\n",
            "  interactivity=interactivity, compiler=compiler, result=result)\n",
            "/usr/local/lib/python3.7/dist-packages/IPython/core/interactiveshell.py:2718: DtypeWarning: Columns (3,16) have mixed types.Specify dtype option on import or set low_memory=False.\n",
            "  interactivity=interactivity, compiler=compiler, result=result)\n"
          ]
        }
      ]
    },
    {
      "cell_type": "code",
      "metadata": {
        "colab": {
          "base_uri": "https://localhost:8080/",
          "height": 815
        },
        "id": "BcCMN5RC4zmK",
        "outputId": "bf9290f3-e835-43f5-8ab0-d55061497bf6"
      },
      "source": [
        "df1.head()"
      ],
      "execution_count": 31,
      "outputs": [
        {
          "output_type": "execute_result",
          "data": {
            "text/html": [
              "<div>\n",
              "<style scoped>\n",
              "    .dataframe tbody tr th:only-of-type {\n",
              "        vertical-align: middle;\n",
              "    }\n",
              "\n",
              "    .dataframe tbody tr th {\n",
              "        vertical-align: top;\n",
              "    }\n",
              "\n",
              "    .dataframe thead th {\n",
              "        text-align: right;\n",
              "    }\n",
              "</style>\n",
              "<table border=\"1\" class=\"dataframe\">\n",
              "  <thead>\n",
              "    <tr style=\"text-align: right;\">\n",
              "      <th></th>\n",
              "      <th>State Code</th>\n",
              "      <th>observation time in local time (String as YYYYMMDDhhmm)</th>\n",
              "      <th>daylight status (Character - 'D' for daytime icons; 'N' for nighttime icons)</th>\n",
              "      <th>sky descriptor (Integer - see lookup)</th>\n",
              "      <th>precipitation descriptor (Integer - see lookup)</th>\n",
              "      <th>temperature descriptor (Integer - see lookup)</th>\n",
              "      <th>additional air descriptor (optional) (Integer - see lookup)</th>\n",
              "      <th>temperature (Floating Point - Celsius)</th>\n",
              "      <th>wind speed (Floating Point - knots.)</th>\n",
              "      <th>wind direction (Integer - compass degrees; 0 - 359; 0 == North)</th>\n",
              "      <th>wind gusts [optional] (Floating  Point - knots.)</th>\n",
              "      <th>humidity (Integer - percent)</th>\n",
              "      <th>dew point (Floating Point - Celsius)</th>\n",
              "      <th>comfort level (Floating Point - Celsius)</th>\n",
              "      <th>sea level pressure (Floating Point - millibars)</th>\n",
              "      <th>barometric tendency ('S' - Steady; 'F' - Falling; 'R' - Rising)</th>\n",
              "      <th>visibility (Floating Point - miles)</th>\n",
              "      <th>sky conditions (C-lear;F-ew;S-cattered;B-roken;O-vercast; X-obscured)</th>\n",
              "      <th>minimum cloud base (Floating Point - meters)</th>\n",
              "      <th>maximum cloud base (Floating Point - meters)</th>\n",
              "      <th>weather type (+FC = tornado/waterspout; FC = funnel cloud; TS = thunderstorm; GR = hail; RA = rain; DZ = drizzle; SN = snow; SG = snow grains; GS = small hail &amp;/or snow pellets; PE = ice pellets; IC = crystals; FG+ = heavy fog less than 0.25 miles vis; FG = fog; BR = mist; UP = unknown precip.; HZ = haze; FU = smoke; VA = volcanic ash; DU = widespread dust; DS = duststorm; PO = sand/dust whirls; SA = sand; SS = sandstorm; PY = spray; SQ = squall) (DR - low drifting; SH - shower; FZ - freezing; MI - shallow; PR - partial; BC - patches; BL - blowing; VC - vicinity; - LIGHT; + HEAVY; 'NO SIGN' - moderate)</th>\n",
              "      <th>hourly precip.  [optional] (Floating  Point - centimeters)</th>\n",
              "      <th>3 hour precipitation [optional] (Floating  Point - centimeters)</th>\n",
              "      <th>6 hour precipitation [optional] (Floating  Point - centimeters)</th>\n",
              "      <th>12 hour precipitation [optional] (Floating  Point - centimeters)</th>\n",
              "      <th>24 hour precipitation [optional] (Floating  Point - centimeters)</th>\n",
              "      <th>24-hr Maximum temperature [optional] (Floating Point - Celsius)</th>\n",
              "      <th>6 hour maximum temperature [optional] (Floating Point - Celsius)</th>\n",
              "      <th>24-hr Minimum temperature [optional] (Floating Point - Celsius)</th>\n",
              "      <th>6 hour minimum temperature [optional] (Floating Point - Celsius)</th>\n",
              "      <th>Snow cover [optional] (Floating  Point - centimeters)</th>\n",
              "      <th>Solar radiation [optional] (Integer - minutes)</th>\n",
              "    </tr>\n",
              "  </thead>\n",
              "  <tbody>\n",
              "    <tr>\n",
              "      <th>0</th>\n",
              "      <td>VIJP</td>\n",
              "      <td>2.016120e+11</td>\n",
              "      <td>N</td>\n",
              "      <td>21</td>\n",
              "      <td>*</td>\n",
              "      <td>6</td>\n",
              "      <td>*</td>\n",
              "      <td>14.8</td>\n",
              "      <td>7.56</td>\n",
              "      <td>90</td>\n",
              "      <td>*</td>\n",
              "      <td>100</td>\n",
              "      <td>14.8</td>\n",
              "      <td>14.71</td>\n",
              "      <td>1015.1</td>\n",
              "      <td>*</td>\n",
              "      <td>1</td>\n",
              "      <td>C</td>\n",
              "      <td>*</td>\n",
              "      <td>*</td>\n",
              "      <td>*</td>\n",
              "      <td>*</td>\n",
              "      <td>*</td>\n",
              "      <td>*</td>\n",
              "      <td>*</td>\n",
              "      <td>*</td>\n",
              "      <td>*</td>\n",
              "      <td>*</td>\n",
              "      <td>*</td>\n",
              "      <td>*</td>\n",
              "      <td>*</td>\n",
              "      <td>*</td>\n",
              "    </tr>\n",
              "    <tr>\n",
              "      <th>1</th>\n",
              "      <td>VIJP</td>\n",
              "      <td>2.016120e+11</td>\n",
              "      <td>N</td>\n",
              "      <td>21</td>\n",
              "      <td>*</td>\n",
              "      <td>6</td>\n",
              "      <td>*</td>\n",
              "      <td>15</td>\n",
              "      <td>5.4</td>\n",
              "      <td>279</td>\n",
              "      <td>*</td>\n",
              "      <td>100</td>\n",
              "      <td>15</td>\n",
              "      <td>15.34</td>\n",
              "      <td>1016</td>\n",
              "      <td>*</td>\n",
              "      <td>2</td>\n",
              "      <td>C</td>\n",
              "      <td>22</td>\n",
              "      <td>*</td>\n",
              "      <td>*</td>\n",
              "      <td>*</td>\n",
              "      <td>*</td>\n",
              "      <td>*</td>\n",
              "      <td>*</td>\n",
              "      <td>*</td>\n",
              "      <td>*</td>\n",
              "      <td>*</td>\n",
              "      <td>*</td>\n",
              "      <td>*</td>\n",
              "      <td>*</td>\n",
              "      <td>*</td>\n",
              "    </tr>\n",
              "    <tr>\n",
              "      <th>2</th>\n",
              "      <td>VIJP</td>\n",
              "      <td>2.017010e+11</td>\n",
              "      <td>N</td>\n",
              "      <td>21</td>\n",
              "      <td>*</td>\n",
              "      <td>6</td>\n",
              "      <td>*</td>\n",
              "      <td>15</td>\n",
              "      <td>1.8</td>\n",
              "      <td>279</td>\n",
              "      <td>*</td>\n",
              "      <td>94</td>\n",
              "      <td>14</td>\n",
              "      <td>15</td>\n",
              "      <td>1016</td>\n",
              "      <td>*</td>\n",
              "      <td>2</td>\n",
              "      <td>C</td>\n",
              "      <td>22</td>\n",
              "      <td>*</td>\n",
              "      <td>*</td>\n",
              "      <td>*</td>\n",
              "      <td>*</td>\n",
              "      <td>*</td>\n",
              "      <td>*</td>\n",
              "      <td>*</td>\n",
              "      <td>*</td>\n",
              "      <td>*</td>\n",
              "      <td>*</td>\n",
              "      <td>*</td>\n",
              "      <td>*</td>\n",
              "      <td>*</td>\n",
              "    </tr>\n",
              "    <tr>\n",
              "      <th>3</th>\n",
              "      <td>VIJP</td>\n",
              "      <td>2.017010e+11</td>\n",
              "      <td>N</td>\n",
              "      <td>21</td>\n",
              "      <td>*</td>\n",
              "      <td>6</td>\n",
              "      <td>*</td>\n",
              "      <td>15</td>\n",
              "      <td>1.8</td>\n",
              "      <td>279</td>\n",
              "      <td>*</td>\n",
              "      <td>94</td>\n",
              "      <td>14</td>\n",
              "      <td>15</td>\n",
              "      <td>1015</td>\n",
              "      <td>*</td>\n",
              "      <td>2</td>\n",
              "      <td>C</td>\n",
              "      <td>22</td>\n",
              "      <td>*</td>\n",
              "      <td>*</td>\n",
              "      <td>*</td>\n",
              "      <td>*</td>\n",
              "      <td>*</td>\n",
              "      <td>*</td>\n",
              "      <td>*</td>\n",
              "      <td>*</td>\n",
              "      <td>*</td>\n",
              "      <td>*</td>\n",
              "      <td>*</td>\n",
              "      <td>*</td>\n",
              "      <td>*</td>\n",
              "    </tr>\n",
              "    <tr>\n",
              "      <th>4</th>\n",
              "      <td>VIJP</td>\n",
              "      <td>2.017010e+11</td>\n",
              "      <td>N</td>\n",
              "      <td>21</td>\n",
              "      <td>*</td>\n",
              "      <td>6</td>\n",
              "      <td>*</td>\n",
              "      <td>15</td>\n",
              "      <td>3.6</td>\n",
              "      <td>279</td>\n",
              "      <td>*</td>\n",
              "      <td>94</td>\n",
              "      <td>14</td>\n",
              "      <td>15</td>\n",
              "      <td>1015</td>\n",
              "      <td>*</td>\n",
              "      <td>2</td>\n",
              "      <td>C</td>\n",
              "      <td>22</td>\n",
              "      <td>*</td>\n",
              "      <td>*</td>\n",
              "      <td>*</td>\n",
              "      <td>*</td>\n",
              "      <td>*</td>\n",
              "      <td>*</td>\n",
              "      <td>*</td>\n",
              "      <td>*</td>\n",
              "      <td>*</td>\n",
              "      <td>*</td>\n",
              "      <td>*</td>\n",
              "      <td>*</td>\n",
              "      <td>*</td>\n",
              "    </tr>\n",
              "  </tbody>\n",
              "</table>\n",
              "</div>"
            ],
            "text/plain": [
              "  State Code   ...  Solar radiation [optional] (Integer - minutes)\n",
              "0        VIJP  ...                                               *\n",
              "1        VIJP  ...                                               *\n",
              "2        VIJP  ...                                               *\n",
              "3        VIJP  ...                                               *\n",
              "4        VIJP  ...                                               *\n",
              "\n",
              "[5 rows x 32 columns]"
            ]
          },
          "metadata": {},
          "execution_count": 31
        }
      ]
    },
    {
      "cell_type": "code",
      "metadata": {
        "colab": {
          "base_uri": "https://localhost:8080/"
        },
        "id": "kIbk3Ht15F2u",
        "outputId": "9ebf1e28-d92e-4469-a0bf-e0960c1d5f4c"
      },
      "source": [
        "df1.info()"
      ],
      "execution_count": 32,
      "outputs": [
        {
          "output_type": "stream",
          "name": "stdout",
          "text": [
            "<class 'pandas.core.frame.DataFrame'>\n",
            "RangeIndex: 87740 entries, 0 to 87739\n",
            "Data columns (total 32 columns):\n",
            " #   Column                                                                                                                                                                                                                                                                                                                                                                                                                                                                                                                                                                                                                             Non-Null Count  Dtype  \n",
            "---  ------                                                                                                                                                                                                                                                                                                                                                                                                                                                                                                                                                                                                                             --------------  -----  \n",
            " 0   State Code                                                                                                                                                                                                                                                                                                                                                                                                                                                                                                                                                                                                                         87740 non-null  object \n",
            " 1   observation time in local time (String as YYYYMMDDhhmm)                                                                                                                                                                                                                                                                                                                                                                                                                                                                                                                                                                            87740 non-null  float64\n",
            " 2   daylight status (Character - 'D' for daytime icons; 'N' for nighttime icons)                                                                                                                                                                                                                                                                                                                                                                                                                                                                                                                                                       87740 non-null  object \n",
            " 3   sky descriptor (Integer - see lookup)                                                                                                                                                                                                                                                                                                                                                                                                                                                                                                                                                                                              87740 non-null  object \n",
            " 4   precipitation descriptor (Integer - see lookup)                                                                                                                                                                                                                                                                                                                                                                                                                                                                                                                                                                                    87740 non-null  object \n",
            " 5   temperature descriptor (Integer - see lookup)                                                                                                                                                                                                                                                                                                                                                                                                                                                                                                                                                                                      87740 non-null  object \n",
            " 6   additional air descriptor (optional) (Integer - see lookup)                                                                                                                                                                                                                                                                                                                                                                                                                                                                                                                                                                        87740 non-null  object \n",
            " 7   temperature (Floating Point - Celsius)                                                                                                                                                                                                                                                                                                                                                                                                                                                                                                                                                                                             87740 non-null  object \n",
            " 8   wind speed (Floating Point - knots.)                                                                                                                                                                                                                                                                                                                                                                                                                                                                                                                                                                                               87740 non-null  object \n",
            " 9   wind direction (Integer - compass degrees; 0 - 359; 0 == North)                                                                                                                                                                                                                                                                                                                                                                                                                                                                                                                                                                    87740 non-null  int64  \n",
            " 10  wind gusts [optional] (Floating  Point - knots.)                                                                                                                                                                                                                                                                                                                                                                                                                                                                                                                                                                                   87740 non-null  object \n",
            " 11  humidity (Integer - percent)                                                                                                                                                                                                                                                                                                                                                                                                                                                                                                                                                                                                       87740 non-null  object \n",
            " 12  dew point (Floating Point - Celsius)                                                                                                                                                                                                                                                                                                                                                                                                                                                                                                                                                                                               87740 non-null  object \n",
            " 13  comfort level (Floating Point - Celsius)                                                                                                                                                                                                                                                                                                                                                                                                                                                                                                                                                                                           87740 non-null  object \n",
            " 14  sea level pressure (Floating Point - millibars)                                                                                                                                                                                                                                                                                                                                                                                                                                                                                                                                                                                    87740 non-null  object \n",
            " 15  barometric tendency ('S' - Steady; 'F' - Falling; 'R' - Rising)                                                                                                                                                                                                                                                                                                                                                                                                                                                                                                                                                                    87740 non-null  object \n",
            " 16  visibility (Floating Point - miles)                                                                                                                                                                                                                                                                                                                                                                                                                                                                                                                                                                                                87740 non-null  object \n",
            " 17  sky conditions (C-lear;F-ew;S-cattered;B-roken;O-vercast; X-obscured)                                                                                                                                                                                                                                                                                                                                                                                                                                                                                                                                                              87740 non-null  object \n",
            " 18  minimum cloud base (Floating Point - meters)                                                                                                                                                                                                                                                                                                                                                                                                                                                                                                                                                                                       87740 non-null  object \n",
            " 19  maximum cloud base (Floating Point - meters)                                                                                                                                                                                                                                                                                                                                                                                                                                                                                                                                                                                       87740 non-null  object \n",
            " 20  weather type (+FC = tornado/waterspout; FC = funnel cloud; TS = thunderstorm; GR = hail; RA = rain; DZ = drizzle; SN = snow; SG = snow grains; GS = small hail &/or snow pellets; PE = ice pellets; IC = crystals; FG+ = heavy fog less than 0.25 miles vis; FG = fog; BR = mist; UP = unknown precip.; HZ = haze; FU = smoke; VA = volcanic ash; DU = widespread dust; DS = duststorm; PO = sand/dust whirls; SA = sand; SS = sandstorm; PY = spray; SQ = squall) (DR - low drifting; SH - shower; FZ - freezing; MI - shallow; PR - partial; BC - patches; BL - blowing; VC - vicinity; - LIGHT; + HEAVY; 'NO SIGN' - moderate)  87740 non-null  object \n",
            " 21  hourly precip.  [optional] (Floating  Point - centimeters)                                                                                                                                                                                                                                                                                                                                                                                                                                                                                                                                                                         87740 non-null  object \n",
            " 22  3 hour precipitation [optional] (Floating  Point - centimeters)                                                                                                                                                                                                                                                                                                                                                                                                                                                                                                                                                                    87740 non-null  object \n",
            " 23  6 hour precipitation [optional] (Floating  Point - centimeters)                                                                                                                                                                                                                                                                                                                                                                                                                                                                                                                                                                    87740 non-null  object \n",
            " 24  12 hour precipitation [optional] (Floating  Point - centimeters)                                                                                                                                                                                                                                                                                                                                                                                                                                                                                                                                                                   87740 non-null  object \n",
            " 25  24 hour precipitation [optional] (Floating  Point - centimeters)                                                                                                                                                                                                                                                                                                                                                                                                                                                                                                                                                                   87740 non-null  object \n",
            " 26  24-hr Maximum temperature [optional] (Floating Point - Celsius)                                                                                                                                                                                                                                                                                                                                                                                                                                                                                                                                                                    87740 non-null  object \n",
            " 27  6 hour maximum temperature [optional] (Floating Point - Celsius)                                                                                                                                                                                                                                                                                                                                                                                                                                                                                                                                                                   87740 non-null  object \n",
            " 28  24-hr Minimum temperature [optional] (Floating Point - Celsius)                                                                                                                                                                                                                                                                                                                                                                                                                                                                                                                                                                    87740 non-null  object \n",
            " 29  6 hour minimum temperature [optional] (Floating Point - Celsius)                                                                                                                                                                                                                                                                                                                                                                                                                                                                                                                                                                   87740 non-null  object \n",
            " 30  Snow cover [optional] (Floating  Point - centimeters)                                                                                                                                                                                                                                                                                                                                                                                                                                                                                                                                                                              87740 non-null  object \n",
            " 31  Solar radiation [optional] (Integer - minutes)                                                                                                                                                                                                                                                                                                                                                                                                                                                                                                                                                                                     87740 non-null  object \n",
            "dtypes: float64(1), int64(1), object(30)\n",
            "memory usage: 21.4+ MB\n"
          ]
        }
      ]
    },
    {
      "cell_type": "code",
      "metadata": {
        "colab": {
          "base_uri": "https://localhost:8080/"
        },
        "id": "4456hjEZ5TY6",
        "outputId": "0452b6d9-403a-4efc-8721-e302689b0858"
      },
      "source": [
        "df2.rename(columns={\"State Location\":\"State Code \"}, inplace= True)\n",
        "df2.info()"
      ],
      "execution_count": 33,
      "outputs": [
        {
          "output_type": "stream",
          "name": "stdout",
          "text": [
            "<class 'pandas.core.frame.DataFrame'>\n",
            "RangeIndex: 91161 entries, 0 to 91160\n",
            "Data columns (total 32 columns):\n",
            " #   Column                                                                                                                                                                                                                                                                                                                                                                                                                                                                                                                                                                                                                             Non-Null Count  Dtype  \n",
            "---  ------                                                                                                                                                                                                                                                                                                                                                                                                                                                                                                                                                                                                                             --------------  -----  \n",
            " 0   State Code                                                                                                                                                                                                                                                                                                                                                                                                                                                                                                                                                                                                                         91161 non-null  object \n",
            " 1   observation time in local time (String as YYYYMMDDhhmm)                                                                                                                                                                                                                                                                                                                                                                                                                                                                                                                                                                            91161 non-null  float64\n",
            " 2   daylight status (Character - 'D' for daytime icons; 'N' for nighttime icons)                                                                                                                                                                                                                                                                                                                                                                                                                                                                                                                                                       91161 non-null  object \n",
            " 3   sky descriptor (Integer - see lookup)                                                                                                                                                                                                                                                                                                                                                                                                                                                                                                                                                                                              91161 non-null  object \n",
            " 4   precipitation descriptor (Integer - see lookup)                                                                                                                                                                                                                                                                                                                                                                                                                                                                                                                                                                                    91161 non-null  object \n",
            " 5   temperature descriptor (Integer - see lookup)                                                                                                                                                                                                                                                                                                                                                                                                                                                                                                                                                                                      91161 non-null  object \n",
            " 6   additional air descriptor (optional) (Integer - see lookup)                                                                                                                                                                                                                                                                                                                                                                                                                                                                                                                                                                        91161 non-null  object \n",
            " 7   temperature (Floating Point - Celsius)                                                                                                                                                                                                                                                                                                                                                                                                                                                                                                                                                                                             91161 non-null  object \n",
            " 8   wind speed (Floating Point - knots.)                                                                                                                                                                                                                                                                                                                                                                                                                                                                                                                                                                                               91161 non-null  object \n",
            " 9   wind direction (Integer - compass degrees; 0 - 359; 0 == North)                                                                                                                                                                                                                                                                                                                                                                                                                                                                                                                                                                    91161 non-null  int64  \n",
            " 10  wind gusts [optional] (Floating  Point - knots.)                                                                                                                                                                                                                                                                                                                                                                                                                                                                                                                                                                                   91161 non-null  object \n",
            " 11  humidity (Integer - percent)                                                                                                                                                                                                                                                                                                                                                                                                                                                                                                                                                                                                       91161 non-null  object \n",
            " 12  dew point (Floating Point - Celsius)                                                                                                                                                                                                                                                                                                                                                                                                                                                                                                                                                                                               91161 non-null  object \n",
            " 13  comfort level (Floating Point - Celsius)                                                                                                                                                                                                                                                                                                                                                                                                                                                                                                                                                                                           91161 non-null  object \n",
            " 14  sea level pressure (Floating Point - millibars)                                                                                                                                                                                                                                                                                                                                                                                                                                                                                                                                                                                    91161 non-null  object \n",
            " 15  barometric tendency ('S' - Steady; 'F' - Falling; 'R' - Rising)                                                                                                                                                                                                                                                                                                                                                                                                                                                                                                                                                                    91161 non-null  object \n",
            " 16  visibility (Floating Point - miles)                                                                                                                                                                                                                                                                                                                                                                                                                                                                                                                                                                                                91161 non-null  object \n",
            " 17  sky conditions (C-lear;F-ew;S-cattered;B-roken;O-vercast; X-obscured)                                                                                                                                                                                                                                                                                                                                                                                                                                                                                                                                                              91161 non-null  object \n",
            " 18  minimum cloud base (Floating Point - meters)                                                                                                                                                                                                                                                                                                                                                                                                                                                                                                                                                                                       91161 non-null  object \n",
            " 19  maximum cloud base (Floating Point - meters)                                                                                                                                                                                                                                                                                                                                                                                                                                                                                                                                                                                       91161 non-null  object \n",
            " 20  weather type (+FC = tornado/waterspout; FC = funnel cloud; TS = thunderstorm; GR = hail; RA = rain; DZ = drizzle; SN = snow; SG = snow grains; GS = small hail &/or snow pellets; PE = ice pellets; IC = crystals; FG+ = heavy fog less than 0.25 miles vis; FG = fog; BR = mist; UP = unknown precip.; HZ = haze; FU = smoke; VA = volcanic ash; DU = widespread dust; DS = duststorm; PO = sand/dust whirls; SA = sand; SS = sandstorm; PY = spray; SQ = squall) (DR - low drifting; SH - shower; FZ - freezing; MI - shallow; PR - partial; BC - patches; BL - blowing; VC - vicinity; - LIGHT; + HEAVY; 'NO SIGN' - moderate)  91161 non-null  object \n",
            " 21  hourly precip.  [optional] (Floating  Point - centimeters)                                                                                                                                                                                                                                                                                                                                                                                                                                                                                                                                                                         91161 non-null  object \n",
            " 22  3 hour precipitation [optional] (Floating  Point - centimeters)                                                                                                                                                                                                                                                                                                                                                                                                                                                                                                                                                                    91161 non-null  object \n",
            " 23  6 hour precipitation [optional] (Floating  Point - centimeters)                                                                                                                                                                                                                                                                                                                                                                                                                                                                                                                                                                    91161 non-null  object \n",
            " 24  12 hour precipitation [optional] (Floating  Point - centimeters)                                                                                                                                                                                                                                                                                                                                                                                                                                                                                                                                                                   91161 non-null  object \n",
            " 25  24 hour precipitation [optional] (Floating  Point - centimeters)                                                                                                                                                                                                                                                                                                                                                                                                                                                                                                                                                                   91161 non-null  object \n",
            " 26  24-hr Maximum temperature [optional] (Floating Point - Celsius)                                                                                                                                                                                                                                                                                                                                                                                                                                                                                                                                                                    91161 non-null  object \n",
            " 27  6 hour maximum temperature [optional] (Floating Point - Celsius)                                                                                                                                                                                                                                                                                                                                                                                                                                                                                                                                                                   91161 non-null  object \n",
            " 28  24-hr Minimum temperature [optional] (Floating Point - Celsius)                                                                                                                                                                                                                                                                                                                                                                                                                                                                                                                                                                    91161 non-null  object \n",
            " 29  6 hour minimum temperature [optional] (Floating Point - Celsius)                                                                                                                                                                                                                                                                                                                                                                                                                                                                                                                                                                   91161 non-null  object \n",
            " 30  Snow cover [optional] (Floating  Point - centimeters)                                                                                                                                                                                                                                                                                                                                                                                                                                                                                                                                                                              91161 non-null  object \n",
            " 31  Solar radiation [optional] (Integer - minutes)                                                                                                                                                                                                                                                                                                                                                                                                                                                                                                                                                                                     91161 non-null  object \n",
            "dtypes: float64(1), int64(1), object(30)\n",
            "memory usage: 22.3+ MB\n"
          ]
        }
      ]
    },
    {
      "cell_type": "code",
      "metadata": {
        "colab": {
          "base_uri": "https://localhost:8080/"
        },
        "id": "0jCUED8F5XjB",
        "outputId": "de668c73-3305-4e2f-d1e9-308081289e7b"
      },
      "source": [
        "df3.info()"
      ],
      "execution_count": 34,
      "outputs": [
        {
          "output_type": "stream",
          "name": "stdout",
          "text": [
            "<class 'pandas.core.frame.DataFrame'>\n",
            "RangeIndex: 41619 entries, 0 to 41618\n",
            "Data columns (total 32 columns):\n",
            " #   Column                                                                                                                                                                                                                                                                                                                                                                                                                                                                                                                                                                                                                             Non-Null Count  Dtype  \n",
            "---  ------                                                                                                                                                                                                                                                                                                                                                                                                                                                                                                                                                                                                                             --------------  -----  \n",
            " 0   State Code                                                                                                                                                                                                                                                                                                                                                                                                                                                                                                                                                                                                                         41619 non-null  object \n",
            " 1   observation time in local time (String as YYYYMMDDhhmm)                                                                                                                                                                                                                                                                                                                                                                                                                                                                                                                                                                            41619 non-null  float64\n",
            " 2   daylight status (Character - 'D' for daytime icons; 'N' for nighttime icons)                                                                                                                                                                                                                                                                                                                                                                                                                                                                                                                                                       41619 non-null  object \n",
            " 3   sky descriptor (Integer - see lookup)                                                                                                                                                                                                                                                                                                                                                                                                                                                                                                                                                                                              41619 non-null  object \n",
            " 4   precipitation descriptor (Integer - see lookup)                                                                                                                                                                                                                                                                                                                                                                                                                                                                                                                                                                                    41619 non-null  object \n",
            " 5   temperature descriptor (Integer - see lookup)                                                                                                                                                                                                                                                                                                                                                                                                                                                                                                                                                                                      41619 non-null  object \n",
            " 6   additional air descriptor (optional) (Integer - see lookup)                                                                                                                                                                                                                                                                                                                                                                                                                                                                                                                                                                        41619 non-null  object \n",
            " 7   temperature (Floating Point - Celsius)                                                                                                                                                                                                                                                                                                                                                                                                                                                                                                                                                                                             41619 non-null  object \n",
            " 8   wind speed (Floating Point - knots.)                                                                                                                                                                                                                                                                                                                                                                                                                                                                                                                                                                                               41619 non-null  object \n",
            " 9   wind direction (Integer - compass degrees; 0 - 359; 0 == North)                                                                                                                                                                                                                                                                                                                                                                                                                                                                                                                                                                    41619 non-null  int64  \n",
            " 10  wind gusts [optional] (Floating  Point - knots.)                                                                                                                                                                                                                                                                                                                                                                                                                                                                                                                                                                                   41619 non-null  object \n",
            " 11  humidity (Integer - percent)                                                                                                                                                                                                                                                                                                                                                                                                                                                                                                                                                                                                       41619 non-null  object \n",
            " 12  dew point (Floating Point - Celsius)                                                                                                                                                                                                                                                                                                                                                                                                                                                                                                                                                                                               41619 non-null  object \n",
            " 13  comfort level (Floating Point - Celsius)                                                                                                                                                                                                                                                                                                                                                                                                                                                                                                                                                                                           41619 non-null  object \n",
            " 14  sea level pressure (Floating Point - millibars)                                                                                                                                                                                                                                                                                                                                                                                                                                                                                                                                                                                    41619 non-null  object \n",
            " 15  barometric tendency ('S' - Steady; 'F' - Falling; 'R' - Rising)                                                                                                                                                                                                                                                                                                                                                                                                                                                                                                                                                                    41619 non-null  object \n",
            " 16  visibility (Floating Point - miles)                                                                                                                                                                                                                                                                                                                                                                                                                                                                                                                                                                                                41619 non-null  object \n",
            " 17  sky conditions (C-lear;F-ew;S-cattered;B-roken;O-vercast; X-obscured)                                                                                                                                                                                                                                                                                                                                                                                                                                                                                                                                                              41619 non-null  object \n",
            " 18  minimum cloud base (Floating Point - meters)                                                                                                                                                                                                                                                                                                                                                                                                                                                                                                                                                                                       41619 non-null  object \n",
            " 19  maximum cloud base (Floating Point - meters)                                                                                                                                                                                                                                                                                                                                                                                                                                                                                                                                                                                       41619 non-null  object \n",
            " 20  weather type (+FC = tornado/waterspout; FC = funnel cloud; TS = thunderstorm; GR = hail; RA = rain; DZ = drizzle; SN = snow; SG = snow grains; GS = small hail &/or snow pellets; PE = ice pellets; IC = crystals; FG+ = heavy fog less than 0.25 miles vis; FG = fog; BR = mist; UP = unknown precip.; HZ = haze; FU = smoke; VA = volcanic ash; DU = widespread dust; DS = duststorm; PO = sand/dust whirls; SA = sand; SS = sandstorm; PY = spray; SQ = squall) (DR - low drifting; SH - shower; FZ - freezing; MI - shallow; PR - partial; BC - patches; BL - blowing; VC - vicinity; - LIGHT; + HEAVY; 'NO SIGN' - moderate)  41619 non-null  object \n",
            " 21  hourly precip.  [optional] (Floating  Point - centimeters)                                                                                                                                                                                                                                                                                                                                                                                                                                                                                                                                                                         41619 non-null  object \n",
            " 22  3 hour precipitation [optional] (Floating  Point - centimeters)                                                                                                                                                                                                                                                                                                                                                                                                                                                                                                                                                                    41619 non-null  object \n",
            " 23  6 hour precipitation [optional] (Floating  Point - centimeters)                                                                                                                                                                                                                                                                                                                                                                                                                                                                                                                                                                    41619 non-null  object \n",
            " 24  12 hour precipitation [optional] (Floating  Point - centimeters)                                                                                                                                                                                                                                                                                                                                                                                                                                                                                                                                                                   41619 non-null  object \n",
            " 25  24 hour precipitation [optional] (Floating  Point - centimeters)                                                                                                                                                                                                                                                                                                                                                                                                                                                                                                                                                                   41619 non-null  object \n",
            " 26  24-hr Maximum temperature [optional] (Floating Point - Celsius)                                                                                                                                                                                                                                                                                                                                                                                                                                                                                                                                                                    41619 non-null  object \n",
            " 27  6 hour maximum temperature [optional] (Floating Point - Celsius)                                                                                                                                                                                                                                                                                                                                                                                                                                                                                                                                                                   41619 non-null  object \n",
            " 28  24-hr Minimum temperature [optional] (Floating Point - Celsius)                                                                                                                                                                                                                                                                                                                                                                                                                                                                                                                                                                    41619 non-null  object \n",
            " 29  6 hour minimum temperature [optional] (Floating Point - Celsius)                                                                                                                                                                                                                                                                                                                                                                                                                                                                                                                                                                   41619 non-null  object \n",
            " 30  Snow cover [optional] (Floating  Point - centimeters)                                                                                                                                                                                                                                                                                                                                                                                                                                                                                                                                                                              41619 non-null  object \n",
            " 31  Solar radiation [optional] (Integer - minutes)                                                                                                                                                                                                                                                                                                                                                                                                                                                                                                                                                                                     41619 non-null  object \n",
            "dtypes: float64(1), int64(1), object(30)\n",
            "memory usage: 10.2+ MB\n"
          ]
        }
      ]
    },
    {
      "cell_type": "code",
      "metadata": {
        "colab": {
          "base_uri": "https://localhost:8080/"
        },
        "id": "e3SPsTid5Z7u",
        "outputId": "d5967d7b-9641-4eb6-e8e2-a96a3a58e81c"
      },
      "source": [
        "dfs = [df1, df2, df3]\n",
        "df = pd.concat(dfs)\n",
        "df.info()"
      ],
      "execution_count": 35,
      "outputs": [
        {
          "output_type": "stream",
          "name": "stdout",
          "text": [
            "<class 'pandas.core.frame.DataFrame'>\n",
            "Int64Index: 220520 entries, 0 to 41618\n",
            "Data columns (total 32 columns):\n",
            " #   Column                                                                                                                                                                                                                                                                                                                                                                                                                                                                                                                                                                                                                             Non-Null Count   Dtype  \n",
            "---  ------                                                                                                                                                                                                                                                                                                                                                                                                                                                                                                                                                                                                                             --------------   -----  \n",
            " 0   State Code                                                                                                                                                                                                                                                                                                                                                                                                                                                                                                                                                                                                                         220520 non-null  object \n",
            " 1   observation time in local time (String as YYYYMMDDhhmm)                                                                                                                                                                                                                                                                                                                                                                                                                                                                                                                                                                            220520 non-null  float64\n",
            " 2   daylight status (Character - 'D' for daytime icons; 'N' for nighttime icons)                                                                                                                                                                                                                                                                                                                                                                                                                                                                                                                                                       220520 non-null  object \n",
            " 3   sky descriptor (Integer - see lookup)                                                                                                                                                                                                                                                                                                                                                                                                                                                                                                                                                                                              220520 non-null  object \n",
            " 4   precipitation descriptor (Integer - see lookup)                                                                                                                                                                                                                                                                                                                                                                                                                                                                                                                                                                                    220520 non-null  object \n",
            " 5   temperature descriptor (Integer - see lookup)                                                                                                                                                                                                                                                                                                                                                                                                                                                                                                                                                                                      220520 non-null  object \n",
            " 6   additional air descriptor (optional) (Integer - see lookup)                                                                                                                                                                                                                                                                                                                                                                                                                                                                                                                                                                        220520 non-null  object \n",
            " 7   temperature (Floating Point - Celsius)                                                                                                                                                                                                                                                                                                                                                                                                                                                                                                                                                                                             220520 non-null  object \n",
            " 8   wind speed (Floating Point - knots.)                                                                                                                                                                                                                                                                                                                                                                                                                                                                                                                                                                                               220520 non-null  object \n",
            " 9   wind direction (Integer - compass degrees; 0 - 359; 0 == North)                                                                                                                                                                                                                                                                                                                                                                                                                                                                                                                                                                    220520 non-null  int64  \n",
            " 10  wind gusts [optional] (Floating  Point - knots.)                                                                                                                                                                                                                                                                                                                                                                                                                                                                                                                                                                                   220520 non-null  object \n",
            " 11  humidity (Integer - percent)                                                                                                                                                                                                                                                                                                                                                                                                                                                                                                                                                                                                       220520 non-null  object \n",
            " 12  dew point (Floating Point - Celsius)                                                                                                                                                                                                                                                                                                                                                                                                                                                                                                                                                                                               220520 non-null  object \n",
            " 13  comfort level (Floating Point - Celsius)                                                                                                                                                                                                                                                                                                                                                                                                                                                                                                                                                                                           220520 non-null  object \n",
            " 14  sea level pressure (Floating Point - millibars)                                                                                                                                                                                                                                                                                                                                                                                                                                                                                                                                                                                    220520 non-null  object \n",
            " 15  barometric tendency ('S' - Steady; 'F' - Falling; 'R' - Rising)                                                                                                                                                                                                                                                                                                                                                                                                                                                                                                                                                                    220520 non-null  object \n",
            " 16  visibility (Floating Point - miles)                                                                                                                                                                                                                                                                                                                                                                                                                                                                                                                                                                                                220520 non-null  object \n",
            " 17  sky conditions (C-lear;F-ew;S-cattered;B-roken;O-vercast; X-obscured)                                                                                                                                                                                                                                                                                                                                                                                                                                                                                                                                                              220520 non-null  object \n",
            " 18  minimum cloud base (Floating Point - meters)                                                                                                                                                                                                                                                                                                                                                                                                                                                                                                                                                                                       220520 non-null  object \n",
            " 19  maximum cloud base (Floating Point - meters)                                                                                                                                                                                                                                                                                                                                                                                                                                                                                                                                                                                       220520 non-null  object \n",
            " 20  weather type (+FC = tornado/waterspout; FC = funnel cloud; TS = thunderstorm; GR = hail; RA = rain; DZ = drizzle; SN = snow; SG = snow grains; GS = small hail &/or snow pellets; PE = ice pellets; IC = crystals; FG+ = heavy fog less than 0.25 miles vis; FG = fog; BR = mist; UP = unknown precip.; HZ = haze; FU = smoke; VA = volcanic ash; DU = widespread dust; DS = duststorm; PO = sand/dust whirls; SA = sand; SS = sandstorm; PY = spray; SQ = squall) (DR - low drifting; SH - shower; FZ - freezing; MI - shallow; PR - partial; BC - patches; BL - blowing; VC - vicinity; - LIGHT; + HEAVY; 'NO SIGN' - moderate)  220520 non-null  object \n",
            " 21  hourly precip.  [optional] (Floating  Point - centimeters)                                                                                                                                                                                                                                                                                                                                                                                                                                                                                                                                                                         220520 non-null  object \n",
            " 22  3 hour precipitation [optional] (Floating  Point - centimeters)                                                                                                                                                                                                                                                                                                                                                                                                                                                                                                                                                                    220520 non-null  object \n",
            " 23  6 hour precipitation [optional] (Floating  Point - centimeters)                                                                                                                                                                                                                                                                                                                                                                                                                                                                                                                                                                    220520 non-null  object \n",
            " 24  12 hour precipitation [optional] (Floating  Point - centimeters)                                                                                                                                                                                                                                                                                                                                                                                                                                                                                                                                                                   220520 non-null  object \n",
            " 25  24 hour precipitation [optional] (Floating  Point - centimeters)                                                                                                                                                                                                                                                                                                                                                                                                                                                                                                                                                                   220520 non-null  object \n",
            " 26  24-hr Maximum temperature [optional] (Floating Point - Celsius)                                                                                                                                                                                                                                                                                                                                                                                                                                                                                                                                                                    220520 non-null  object \n",
            " 27  6 hour maximum temperature [optional] (Floating Point - Celsius)                                                                                                                                                                                                                                                                                                                                                                                                                                                                                                                                                                   220520 non-null  object \n",
            " 28  24-hr Minimum temperature [optional] (Floating Point - Celsius)                                                                                                                                                                                                                                                                                                                                                                                                                                                                                                                                                                    220520 non-null  object \n",
            " 29  6 hour minimum temperature [optional] (Floating Point - Celsius)                                                                                                                                                                                                                                                                                                                                                                                                                                                                                                                                                                   220520 non-null  object \n",
            " 30  Snow cover [optional] (Floating  Point - centimeters)                                                                                                                                                                                                                                                                                                                                                                                                                                                                                                                                                                              220520 non-null  object \n",
            " 31  Solar radiation [optional] (Integer - minutes)                                                                                                                                                                                                                                                                                                                                                                                                                                                                                                                                                                                     220520 non-null  object \n",
            "dtypes: float64(1), int64(1), object(30)\n",
            "memory usage: 55.5+ MB\n"
          ]
        }
      ]
    },
    {
      "cell_type": "code",
      "metadata": {
        "colab": {
          "base_uri": "https://localhost:8080/"
        },
        "id": "InUUTUx96PVi",
        "outputId": "8dbf55f0-391f-419b-87c1-1982e0125ce2"
      },
      "source": [
        "pd.unique(df['State Code '])"
      ],
      "execution_count": 36,
      "outputs": [
        {
          "output_type": "execute_result",
          "data": {
            "text/plain": [
              "array(['VIJP', 'VIDP', 'VAUD'], dtype=object)"
            ]
          },
          "metadata": {},
          "execution_count": 36
        }
      ]
    },
    {
      "cell_type": "code",
      "metadata": {
        "id": "qKF_HJi660k9"
      },
      "source": [
        "import numpy as np\n",
        "df.replace(to_replace = \"*\", value = np.nan, inplace=True)   "
      ],
      "execution_count": 37,
      "outputs": []
    },
    {
      "cell_type": "code",
      "metadata": {
        "colab": {
          "base_uri": "https://localhost:8080/",
          "height": 369
        },
        "id": "ONbW2MavRZNV",
        "outputId": "95016329-88ff-4ce6-97cd-91d360f71f44"
      },
      "source": [
        "df.describe()"
      ],
      "execution_count": 38,
      "outputs": [
        {
          "output_type": "execute_result",
          "data": {
            "text/html": [
              "<div>\n",
              "<style scoped>\n",
              "    .dataframe tbody tr th:only-of-type {\n",
              "        vertical-align: middle;\n",
              "    }\n",
              "\n",
              "    .dataframe tbody tr th {\n",
              "        vertical-align: top;\n",
              "    }\n",
              "\n",
              "    .dataframe thead th {\n",
              "        text-align: right;\n",
              "    }\n",
              "</style>\n",
              "<table border=\"1\" class=\"dataframe\">\n",
              "  <thead>\n",
              "    <tr style=\"text-align: right;\">\n",
              "      <th></th>\n",
              "      <th>observation time in local time (String as YYYYMMDDhhmm)</th>\n",
              "      <th>additional air descriptor (optional) (Integer - see lookup)</th>\n",
              "      <th>wind direction (Integer - compass degrees; 0 - 359; 0 == North)</th>\n",
              "      <th>wind gusts [optional] (Floating  Point - knots.)</th>\n",
              "      <th>6 hour maximum temperature [optional] (Floating Point - Celsius)</th>\n",
              "      <th>6 hour minimum temperature [optional] (Floating Point - Celsius)</th>\n",
              "      <th>Snow cover [optional] (Floating  Point - centimeters)</th>\n",
              "      <th>Solar radiation [optional] (Integer - minutes)</th>\n",
              "    </tr>\n",
              "  </thead>\n",
              "  <tbody>\n",
              "    <tr>\n",
              "      <th>count</th>\n",
              "      <td>2.205200e+05</td>\n",
              "      <td>0.0</td>\n",
              "      <td>220520.000000</td>\n",
              "      <td>0.0</td>\n",
              "      <td>0.0</td>\n",
              "      <td>0.0</td>\n",
              "      <td>0.0</td>\n",
              "      <td>0.0</td>\n",
              "    </tr>\n",
              "    <tr>\n",
              "      <th>mean</th>\n",
              "      <td>2.018868e+11</td>\n",
              "      <td>NaN</td>\n",
              "      <td>219.394440</td>\n",
              "      <td>NaN</td>\n",
              "      <td>NaN</td>\n",
              "      <td>NaN</td>\n",
              "      <td>NaN</td>\n",
              "      <td>NaN</td>\n",
              "    </tr>\n",
              "    <tr>\n",
              "      <th>std</th>\n",
              "      <td>1.338637e+08</td>\n",
              "      <td>NaN</td>\n",
              "      <td>93.820111</td>\n",
              "      <td>NaN</td>\n",
              "      <td>NaN</td>\n",
              "      <td>NaN</td>\n",
              "      <td>NaN</td>\n",
              "      <td>NaN</td>\n",
              "    </tr>\n",
              "    <tr>\n",
              "      <th>min</th>\n",
              "      <td>2.016120e+11</td>\n",
              "      <td>NaN</td>\n",
              "      <td>0.000000</td>\n",
              "      <td>NaN</td>\n",
              "      <td>NaN</td>\n",
              "      <td>NaN</td>\n",
              "      <td>NaN</td>\n",
              "      <td>NaN</td>\n",
              "    </tr>\n",
              "    <tr>\n",
              "      <th>25%</th>\n",
              "      <td>2.018020e+11</td>\n",
              "      <td>NaN</td>\n",
              "      <td>130.000000</td>\n",
              "      <td>NaN</td>\n",
              "      <td>NaN</td>\n",
              "      <td>NaN</td>\n",
              "      <td>NaN</td>\n",
              "      <td>NaN</td>\n",
              "    </tr>\n",
              "    <tr>\n",
              "      <th>50%</th>\n",
              "      <td>2.019040e+11</td>\n",
              "      <td>NaN</td>\n",
              "      <td>270.000000</td>\n",
              "      <td>NaN</td>\n",
              "      <td>NaN</td>\n",
              "      <td>NaN</td>\n",
              "      <td>NaN</td>\n",
              "      <td>NaN</td>\n",
              "    </tr>\n",
              "    <tr>\n",
              "      <th>75%</th>\n",
              "      <td>2.020060e+11</td>\n",
              "      <td>NaN</td>\n",
              "      <td>279.000000</td>\n",
              "      <td>NaN</td>\n",
              "      <td>NaN</td>\n",
              "      <td>NaN</td>\n",
              "      <td>NaN</td>\n",
              "      <td>NaN</td>\n",
              "    </tr>\n",
              "    <tr>\n",
              "      <th>max</th>\n",
              "      <td>2.021080e+11</td>\n",
              "      <td>NaN</td>\n",
              "      <td>355.000000</td>\n",
              "      <td>NaN</td>\n",
              "      <td>NaN</td>\n",
              "      <td>NaN</td>\n",
              "      <td>NaN</td>\n",
              "      <td>NaN</td>\n",
              "    </tr>\n",
              "  </tbody>\n",
              "</table>\n",
              "</div>"
            ],
            "text/plain": [
              "       observation time in local time (String as YYYYMMDDhhmm)  ...  Solar radiation [optional] (Integer - minutes)\n",
              "count                                       2.205200e+05        ...                                             0.0\n",
              "mean                                        2.018868e+11        ...                                             NaN\n",
              "std                                         1.338637e+08        ...                                             NaN\n",
              "min                                         2.016120e+11        ...                                             NaN\n",
              "25%                                         2.018020e+11        ...                                             NaN\n",
              "50%                                         2.019040e+11        ...                                             NaN\n",
              "75%                                         2.020060e+11        ...                                             NaN\n",
              "max                                         2.021080e+11        ...                                             NaN\n",
              "\n",
              "[8 rows x 8 columns]"
            ]
          },
          "metadata": {},
          "execution_count": 38
        }
      ]
    },
    {
      "cell_type": "code",
      "metadata": {
        "colab": {
          "base_uri": "https://localhost:8080/"
        },
        "id": "F0fGJa1GQCIc",
        "outputId": "ee17a00a-d27b-475e-fe60-6aba4d5d8411"
      },
      "source": [
        "pd.unique(df['precipitation descriptor (Integer - see lookup)'])"
      ],
      "execution_count": 39,
      "outputs": [
        {
          "output_type": "execute_result",
          "data": {
            "text/plain": [
              "array([nan, '20', '7', '1', '19', '23', '9', '8', '21', '12', '24'],\n",
              "      dtype=object)"
            ]
          },
          "metadata": {},
          "execution_count": 39
        }
      ]
    },
    {
      "cell_type": "code",
      "metadata": {
        "colab": {
          "base_uri": "https://localhost:8080/"
        },
        "id": "W0qT2Gd4QVGO",
        "outputId": "69b0c5e6-531f-4e29-9ddc-7a7dbb8516a5"
      },
      "source": [
        "df['precipitation descriptor (Integer - see lookup)'] = df['precipitation descriptor (Integer - see lookup)'].astype(float)\n",
        "df['precipitation descriptor (Integer - see lookup)'].fillna((df['precipitation descriptor (Integer - see lookup)'].mean()),inplace=True)\n",
        "pd.unique(df['precipitation descriptor (Integer - see lookup)'])"
      ],
      "execution_count": 40,
      "outputs": [
        {
          "output_type": "execute_result",
          "data": {
            "text/plain": [
              "array([11.06542645, 20.        ,  7.        ,  1.        , 19.        ,\n",
              "       23.        ,  9.        ,  8.        , 21.        , 12.        ,\n",
              "       24.        ])"
            ]
          },
          "metadata": {},
          "execution_count": 40
        }
      ]
    },
    {
      "cell_type": "code",
      "metadata": {
        "colab": {
          "base_uri": "https://localhost:8080/"
        },
        "id": "0zg4GtHcRPhY",
        "outputId": "b1ce6a67-89d5-44c9-a95a-0376bf0c352d"
      },
      "source": [
        "pd.unique(df['temperature descriptor (Integer - see lookup)'])"
      ],
      "execution_count": 41,
      "outputs": [
        {
          "output_type": "execute_result",
          "data": {
            "text/plain": [
              "array(['6', '8', '9', '7', '5', '4', nan, '10', '11', '12'], dtype=object)"
            ]
          },
          "metadata": {},
          "execution_count": 41
        }
      ]
    },
    {
      "cell_type": "code",
      "metadata": {
        "colab": {
          "base_uri": "https://localhost:8080/"
        },
        "id": "cxHcCLm9S_Lg",
        "outputId": "7f9207bd-bf17-4570-de89-fe93e9d204c1"
      },
      "source": [
        "df['temperature descriptor (Integer - see lookup)'] = df['temperature descriptor (Integer - see lookup)'].astype(float)\n",
        "df['temperature descriptor (Integer - see lookup)'].fillna((df['temperature descriptor (Integer - see lookup)'].mean()),inplace=True)\n",
        "pd.unique(df['temperature descriptor (Integer - see lookup)'])"
      ],
      "execution_count": 43,
      "outputs": [
        {
          "output_type": "execute_result",
          "data": {
            "text/plain": [
              "array([ 6.       ,  8.       ,  9.       ,  7.       ,  5.       ,\n",
              "        4.       ,  9.3008374, 10.       , 11.       , 12.       ])"
            ]
          },
          "metadata": {},
          "execution_count": 43
        }
      ]
    },
    {
      "cell_type": "code",
      "metadata": {
        "colab": {
          "base_uri": "https://localhost:8080/"
        },
        "id": "2zN7BnV5T5hr",
        "outputId": "dcc7345f-3cba-48dc-9bb8-a7abd71ea55f"
      },
      "source": [
        "pd.unique(df['temperature descriptor (Integer - see lookup)'])"
      ],
      "execution_count": 46,
      "outputs": [
        {
          "output_type": "execute_result",
          "data": {
            "text/plain": [
              "array([ 6.       ,  8.       ,  9.       ,  7.       ,  5.       ,\n",
              "        4.       ,  9.3008374, 10.       , 11.       , 12.       ])"
            ]
          },
          "metadata": {},
          "execution_count": 46
        }
      ]
    },
    {
      "cell_type": "code",
      "metadata": {
        "colab": {
          "base_uri": "https://localhost:8080/"
        },
        "id": "Z87-UmYsWpuy",
        "outputId": "7a62774d-bf3e-44e6-80ee-41cb7eb8f68c"
      },
      "source": [
        "nan_values = df.isna()\n",
        "nan_columns = nan_values.any()\n",
        "\n",
        "columns_with_nan = df.columns[nan_columns].tolist()\n",
        "print(columns_with_nan)"
      ],
      "execution_count": 45,
      "outputs": [
        {
          "output_type": "stream",
          "name": "stdout",
          "text": [
            "['sky descriptor (Integer - see lookup)', 'additional air descriptor (optional) (Integer - see lookup)', 'temperature (Floating Point - Celsius)', 'wind speed (Floating Point - knots.)', 'wind gusts [optional] (Floating  Point - knots.)', 'humidity (Integer - percent)', 'dew point (Floating Point - Celsius)', 'comfort level (Floating Point - Celsius)', 'sea level pressure (Floating Point - millibars)', \"barometric tendency ('S' - Steady; 'F' - Falling; 'R' - Rising)\", 'visibility (Floating Point - miles)', 'sky conditions (C-lear;F-ew;S-cattered;B-roken;O-vercast; X-obscured)', 'minimum cloud base (Floating Point - meters)', 'maximum cloud base (Floating Point - meters)', \"weather type (+FC = tornado/waterspout; FC = funnel cloud; TS = thunderstorm; GR = hail; RA = rain; DZ = drizzle; SN = snow; SG = snow grains; GS = small hail &/or snow pellets; PE = ice pellets; IC = crystals; FG+ = heavy fog less than 0.25 miles vis; FG = fog; BR = mist; UP = unknown precip.; HZ = haze; FU = smoke; VA = volcanic ash; DU = widespread dust; DS = duststorm; PO = sand/dust whirls; SA = sand; SS = sandstorm; PY = spray; SQ = squall) (DR - low drifting; SH - shower; FZ - freezing; MI - shallow; PR - partial; BC - patches; BL - blowing; VC - vicinity; - LIGHT; + HEAVY; 'NO SIGN' - moderate)\", 'hourly precip.  [optional] (Floating  Point - centimeters)', '3 hour precipitation [optional] (Floating  Point - centimeters)', '6 hour precipitation [optional] (Floating  Point - centimeters)', '12 hour precipitation [optional] (Floating  Point - centimeters)', '24 hour precipitation [optional] (Floating  Point - centimeters)', '24-hr Maximum temperature [optional] (Floating Point - Celsius)', '6 hour maximum temperature [optional] (Floating Point - Celsius)', '24-hr Minimum temperature [optional] (Floating Point - Celsius)', '6 hour minimum temperature [optional] (Floating Point - Celsius)', 'Snow cover [optional] (Floating  Point - centimeters)', 'Solar radiation [optional] (Integer - minutes)']\n"
          ]
        }
      ]
    },
    {
      "cell_type": "code",
      "metadata": {
        "colab": {
          "base_uri": "https://localhost:8080/"
        },
        "id": "bedpueecXRR9",
        "outputId": "dfbd06e8-907e-4c0c-f44f-869f3d491503"
      },
      "source": [
        "pd.unique(df['temperature (Floating Point - Celsius)'])"
      ],
      "execution_count": 47,
      "outputs": [
        {
          "output_type": "execute_result",
          "data": {
            "text/plain": [
              "array(['14.8', '15', '14.6', '14', '13.4', '13', '13.7', '16', '17', '18',\n",
              "       '19', '20', '20.6', '21', '22', '23', '24', '21.6', '15.6', '12.6',\n",
              "       '12', '11', '11.4', '19.6', '21.8', '16.8', '14.2', '11.6', '12.4',\n",
              "       '22.4', '16.6', '13.6', '10', '18.6', '14.4', '10.8', '25', '23.6',\n",
              "       '19.8', '22.2', '19.2', '18.4', '15.2', '18.8', '21.4', '17.6',\n",
              "       '10.6', '11.8', '17.2', '20.4', '9', '9.2', '8', '17.8', '13.8',\n",
              "       '11.2', '7.2', '7', '6', '5.6', '5', '15.4', '16.2', '4', '4.2',\n",
              "       '7.6', '16.4', '12.2', '9.4', '7.8', '8.6', '15.8', nan, '13.2',\n",
              "       '18.2', '6.8', '10.4', '20.7', '19.4', '8.8', '22.8', '20.8',\n",
              "       '8.2', '20.2', '23.8', '25.8', '24.4', '26', '27', '26.8', '28',\n",
              "       '11.1', '22.6', '23.2', '17.4', '25.6', '21.2', '23.4', '25.2',\n",
              "       '25.4', '24.6', '10.2', '12.8', '26.6', '28.8', '27.2', '29', '30',\n",
              "       '28.6', '28.4', '31', '29.6', '27.4', '32', '30.8', '27.8', '33',\n",
              "       '32.6', '29.8', '24.8', '26.4', '26.2', '29.4', '30.2', '28.2',\n",
              "       '32.2', '31.8', '27.6', '29.2', '19.5', '31.4', '31.2', '34',\n",
              "       '33.2', '32.4', '35', '35.8', '36', '35.6', '36.4', '33.4', '35.2',\n",
              "       '30.4', '34.4', '37', '38', '39', '40.2', '37.6', '40', '41',\n",
              "       '39.4', '33.8', '37.4', '39.8', '39.2', '31.6', '36.6', '38.8',\n",
              "       '38.6', '38.4', '34.2', '37.2', '38.2', '32.8', '36.2', '33.6',\n",
              "       '34.6', '30.6', '37.8', '40.4', '42', '41.8', '43', '41.4', '41.6',\n",
              "       '34.8', '41.2', '40.6', '42.2', '36.8', '35.4', '42.4', '43.6',\n",
              "       '44', '40.8', '42.8', '39.6', '43.4', '43.8', '45', '24.2', '42.6',\n",
              "       '37.3', '34.7', '32.5', '25.3', '28.5', '29.5', '30.7', '22.7',\n",
              "       '9.8', '10.7', '9.7', '20.5', '9.5', '7.7', '17.7', '21.7', '13.5',\n",
              "       '19.7', '14.5', '11.7', '14.7', '10.5', '22.5', '12.7', '8.7',\n",
              "       '9.6', '23.5', '16.7', '15.5', '23.7', '25.5', '24.5', '24.7',\n",
              "       '15.7', '17.5', '11.5', '16.5', '12.5', '21.5', '29.1', '26.7',\n",
              "       '29.7', '43.2', '28.7', '42.7', '31.5', '33.5', '34.5', '27.5',\n",
              "       '27.7', '24.1', '27.3', '30.5', '26.5', '7.4', '8.4', '44.6',\n",
              "       '44.2', '45.2', '44.4', '35.7', '45.4', '46', '36.5', '6.2', '6.6',\n",
              "       '6.4', '2.6', '3', '2', '4.4', '2.2', '5.4', '3.4', '18.5', '34.1',\n",
              "       '33.7', '41.5', '31.7', '5.8', '5.2', '11.9', '47', '48', '44.8',\n",
              "       '36.7', '25.9', '35.3', '45.8', '45.6', '4.8', '4.6', '46.2',\n",
              "       '37.7', '18.7', '39.7', '35.9', '37.1', '39.5', '33.1', '36.1',\n",
              "       '7.5', '8.5', '42.5', '25.7', '6.5', '26.9', '44.1', '6.7', '30.3'],\n",
              "      dtype=object)"
            ]
          },
          "metadata": {},
          "execution_count": 47
        }
      ]
    },
    {
      "cell_type": "code",
      "metadata": {
        "colab": {
          "base_uri": "https://localhost:8080/"
        },
        "id": "Axa1LKtmZjrT",
        "outputId": "2b51204b-a568-433a-eec5-c5fc7f752c32"
      },
      "source": [
        "pd.unique(df['wind speed (Floating Point - knots.)'])"
      ],
      "execution_count": 48,
      "outputs": [
        {
          "output_type": "execute_result",
          "data": {
            "text/plain": [
              "array(['7.56', '5.4', '1.8', '3.6', '9.36', '0', '12.96', '11.16',\n",
              "       '14.76', '16.56', '18.36', '20.52', nan, '22.32', '24.12', '27.72',\n",
              "       '33.48', '35.28', '25.92', '38.88', '29.52', '18', '31.68',\n",
              "       '46.44', '37.08', '50.04', '14.4', '88.92', '10.8', '28.8', '21.6',\n",
              "       '85.32', '7.2', '40.68', '92.52', '9.27', '48.24', '55.44', '59.4',\n",
              "       '44.64', '42.48', '32.4', '74.16', '77.76', '66.6', '39.6'],\n",
              "      dtype=object)"
            ]
          },
          "metadata": {},
          "execution_count": 48
        }
      ]
    },
    {
      "cell_type": "code",
      "metadata": {
        "colab": {
          "base_uri": "https://localhost:8080/"
        },
        "id": "9MpavsDWXk-P",
        "outputId": "dae8f4b9-89e7-40dd-bfbd-47367a74a04f"
      },
      "source": [
        "df['temperature (Floating Point - Celsius)'] = df['temperature (Floating Point - Celsius)'].astype(float)\n",
        "df['temperature (Floating Point - Celsius)'].fillna((df['temperature (Floating Point - Celsius)'].mean()),inplace=True)\n",
        "pd.unique(df['temperature (Floating Point - Celsius)'])"
      ],
      "execution_count": 51,
      "outputs": [
        {
          "output_type": "execute_result",
          "data": {
            "text/plain": [
              "array([14.8       , 15.        , 14.6       , 14.        , 13.4       ,\n",
              "       13.        , 13.7       , 16.        , 17.        , 18.        ,\n",
              "       19.        , 20.        , 20.6       , 21.        , 22.        ,\n",
              "       23.        , 24.        , 21.6       , 15.6       , 12.6       ,\n",
              "       12.        , 11.        , 11.4       , 19.6       , 21.8       ,\n",
              "       16.8       , 14.2       , 11.6       , 12.4       , 22.4       ,\n",
              "       16.6       , 13.6       , 10.        , 18.6       , 14.4       ,\n",
              "       10.8       , 25.        , 23.6       , 19.8       , 22.2       ,\n",
              "       19.2       , 18.4       , 15.2       , 18.8       , 21.4       ,\n",
              "       17.6       , 10.6       , 11.8       , 17.2       , 20.4       ,\n",
              "        9.        ,  9.2       ,  8.        , 17.8       , 13.8       ,\n",
              "       11.2       ,  7.2       ,  7.        ,  6.        ,  5.6       ,\n",
              "        5.        , 15.4       , 16.2       ,  4.        ,  4.2       ,\n",
              "        7.6       , 16.4       , 12.2       ,  9.4       ,  7.8       ,\n",
              "        8.6       , 15.8       , 26.05927007, 13.2       , 18.2       ,\n",
              "        6.8       , 10.4       , 20.7       , 19.4       ,  8.8       ,\n",
              "       22.8       , 20.8       ,  8.2       , 20.2       , 23.8       ,\n",
              "       25.8       , 24.4       , 26.        , 27.        , 26.8       ,\n",
              "       28.        , 11.1       , 22.6       , 23.2       , 17.4       ,\n",
              "       25.6       , 21.2       , 23.4       , 25.2       , 25.4       ,\n",
              "       24.6       , 10.2       , 12.8       , 26.6       , 28.8       ,\n",
              "       27.2       , 29.        , 30.        , 28.6       , 28.4       ,\n",
              "       31.        , 29.6       , 27.4       , 32.        , 30.8       ,\n",
              "       27.8       , 33.        , 32.6       , 29.8       , 24.8       ,\n",
              "       26.4       , 26.2       , 29.4       , 30.2       , 28.2       ,\n",
              "       32.2       , 31.8       , 27.6       , 29.2       , 19.5       ,\n",
              "       31.4       , 31.2       , 34.        , 33.2       , 32.4       ,\n",
              "       35.        , 35.8       , 36.        , 35.6       , 36.4       ,\n",
              "       33.4       , 35.2       , 30.4       , 34.4       , 37.        ,\n",
              "       38.        , 39.        , 40.2       , 37.6       , 40.        ,\n",
              "       41.        , 39.4       , 33.8       , 37.4       , 39.8       ,\n",
              "       39.2       , 31.6       , 36.6       , 38.8       , 38.6       ,\n",
              "       38.4       , 34.2       , 37.2       , 38.2       , 32.8       ,\n",
              "       36.2       , 33.6       , 34.6       , 30.6       , 37.8       ,\n",
              "       40.4       , 42.        , 41.8       , 43.        , 41.4       ,\n",
              "       41.6       , 34.8       , 41.2       , 40.6       , 42.2       ,\n",
              "       36.8       , 35.4       , 42.4       , 43.6       , 44.        ,\n",
              "       40.8       , 42.8       , 39.6       , 43.4       , 43.8       ,\n",
              "       45.        , 24.2       , 42.6       , 37.3       , 34.7       ,\n",
              "       32.5       , 25.3       , 28.5       , 29.5       , 30.7       ,\n",
              "       22.7       ,  9.8       , 10.7       ,  9.7       , 20.5       ,\n",
              "        9.5       ,  7.7       , 17.7       , 21.7       , 13.5       ,\n",
              "       19.7       , 14.5       , 11.7       , 14.7       , 10.5       ,\n",
              "       22.5       , 12.7       ,  8.7       ,  9.6       , 23.5       ,\n",
              "       16.7       , 15.5       , 23.7       , 25.5       , 24.5       ,\n",
              "       24.7       , 15.7       , 17.5       , 11.5       , 16.5       ,\n",
              "       12.5       , 21.5       , 29.1       , 26.7       , 29.7       ,\n",
              "       43.2       , 28.7       , 42.7       , 31.5       , 33.5       ,\n",
              "       34.5       , 27.5       , 27.7       , 24.1       , 27.3       ,\n",
              "       30.5       , 26.5       ,  7.4       ,  8.4       , 44.6       ,\n",
              "       44.2       , 45.2       , 44.4       , 35.7       , 45.4       ,\n",
              "       46.        , 36.5       ,  6.2       ,  6.6       ,  6.4       ,\n",
              "        2.6       ,  3.        ,  2.        ,  4.4       ,  2.2       ,\n",
              "        5.4       ,  3.4       , 18.5       , 34.1       , 33.7       ,\n",
              "       41.5       , 31.7       ,  5.8       ,  5.2       , 11.9       ,\n",
              "       47.        , 48.        , 44.8       , 36.7       , 25.9       ,\n",
              "       35.3       , 45.8       , 45.6       ,  4.8       ,  4.6       ,\n",
              "       46.2       , 37.7       , 18.7       , 39.7       , 35.9       ,\n",
              "       37.1       , 39.5       , 33.1       , 36.1       ,  7.5       ,\n",
              "        8.5       , 42.5       , 25.7       ,  6.5       , 26.9       ,\n",
              "       44.1       ,  6.7       , 30.3       ])"
            ]
          },
          "metadata": {},
          "execution_count": 51
        }
      ]
    },
    {
      "cell_type": "code",
      "metadata": {
        "colab": {
          "base_uri": "https://localhost:8080/"
        },
        "id": "SBdhpXAUbJTx",
        "outputId": "6c9bc7a1-5a26-4d5a-a07c-1ec449e812cb"
      },
      "source": [
        "df['wind speed (Floating Point - knots.)'] = df['wind speed (Floating Point - knots.)'].astype(float)\n",
        "df['wind speed (Floating Point - knots.)'].fillna((df['wind speed (Floating Point - knots.)'].mean()),inplace=True)\n",
        "pd.unique(df['wind speed (Floating Point - knots.)'])"
      ],
      "execution_count": 53,
      "outputs": [
        {
          "output_type": "execute_result",
          "data": {
            "text/plain": [
              "array([ 7.56      ,  5.4       ,  1.8       ,  3.6       ,  9.36      ,\n",
              "        0.        , 12.96      , 11.16      , 14.76      , 16.56      ,\n",
              "       18.36      , 20.52      ,  7.76640468, 22.32      , 24.12      ,\n",
              "       27.72      , 33.48      , 35.28      , 25.92      , 38.88      ,\n",
              "       29.52      , 18.        , 31.68      , 46.44      , 37.08      ,\n",
              "       50.04      , 14.4       , 88.92      , 10.8       , 28.8       ,\n",
              "       21.6       , 85.32      ,  7.2       , 40.68      , 92.52      ,\n",
              "        9.27      , 48.24      , 55.44      , 59.4       , 44.64      ,\n",
              "       42.48      , 32.4       , 74.16      , 77.76      , 66.6       ,\n",
              "       39.6       ])"
            ]
          },
          "metadata": {},
          "execution_count": 53
        }
      ]
    },
    {
      "cell_type": "code",
      "metadata": {
        "id": "e_zum6uhaIAx"
      },
      "source": [
        ""
      ],
      "execution_count": null,
      "outputs": []
    }
  ]
}